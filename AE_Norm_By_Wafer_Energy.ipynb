{
 "cells": [
  {
   "cell_type": "code",
   "execution_count": 3,
   "id": "3a592ab9",
   "metadata": {},
   "outputs": [],
   "source": [
    "import os\n",
    "import sys\n",
    "import pandas as pd\n",
    "import torch.nn as nn\n",
    "import torch.optim as optim\n",
    "import numpy as np\n",
    "import torch\n",
    "import matplotlib.pyplot as plt\n",
    "from Naive_DAE import Naive_DAE,Dropout_DAE\n",
    "import AE_Stats\n",
    "from load_data_fn import load_data, load_data_non_norm\n",
    "\n",
    "from torch.autograd import Variable\n",
    "from torch.utils.data import Dataset, DataLoader, TensorDataset\n",
    "import importlib\n"
   ]
  },
  {
   "cell_type": "code",
   "execution_count": 4,
   "id": "3d64d99e",
   "metadata": {},
   "outputs": [],
   "source": [
    "dt,dt_loc = load_data_non_norm(1)"
   ]
  },
  {
   "cell_type": "code",
   "execution_count": 5,
   "id": "d984ae5f",
   "metadata": {},
   "outputs": [],
   "source": [
    "wafer_energy = torch.sum(dt[:,0:48],dim =1)"
   ]
  },
  {
   "cell_type": "code",
   "execution_count": 7,
   "id": "23f6ead5",
   "metadata": {},
   "outputs": [],
   "source": [
    "# dt_raw = torch.clone(dt)"
   ]
  },
  {
   "cell_type": "code",
   "execution_count": 10,
   "id": "23745920",
   "metadata": {},
   "outputs": [],
   "source": [
    "dt = dt/ torch.unsqueeze(wafer_energy,dim=1)"
   ]
  },
  {
   "cell_type": "code",
   "execution_count": 29,
   "id": "cd613481",
   "metadata": {},
   "outputs": [],
   "source": [
    "filtered_dt = dt[~torch.any(dt.isnan(),dim=1)]\n"
   ]
  },
  {
   "cell_type": "code",
   "execution_count": 31,
   "id": "142778ca",
   "metadata": {},
   "outputs": [
    {
     "data": {
      "text/plain": [
       "tensor(1.)"
      ]
     },
     "execution_count": 31,
     "metadata": {},
     "output_type": "execute_result"
    }
   ],
   "source": []
  },
  {
   "cell_type": "code",
   "execution_count": 32,
   "id": "53e1aee7",
   "metadata": {},
   "outputs": [],
   "source": [
    "size_train =50000\n",
    "size_test = 10000\n",
    "train_loc = dt_loc[0:size_train]\n",
    "test_loc = dt_loc[-size_test:]\n",
    "# train = torch.vstack([train,largest[0:1000]] )\n",
    "train_loc=train_loc[torch.randperm(train_loc.size()[0])]\n",
    "test_loc=test_loc[torch.randperm(test_loc.size()[0])]\n",
    "train_loc_dl_flat = DataLoader(\n",
    "    TensorDataset(torch.Tensor(train_loc)),\n",
    "    batch_size=100,\n",
    "    shuffle=False\n",
    ")\n",
    "\n",
    "test_loc_dl_flat = DataLoader(\n",
    "    TensorDataset(torch.Tensor(test_loc)),\n",
    "    batch_size=100,\n",
    "    shuffle=False\n",
    ")\n",
    "\n",
    "train = filtered_dt[0:size_train]\n",
    "test = filtered_dt[-size_test:]\n",
    "# train = torch.vstack([train,largest[0:1000]] )\n",
    "train=train[torch.randperm(train.size()[0])]\n",
    "test=test[torch.randperm(test.size()[0])]\n",
    "train_dl_flat = DataLoader(\n",
    "    TensorDataset(torch.Tensor(train)),\n",
    "    batch_size=100,\n",
    "    shuffle=False\n",
    ")\n",
    "\n",
    "test_dl_flat = DataLoader(\n",
    "    TensorDataset(torch.Tensor(test)),\n",
    "    batch_size=100,\n",
    "    shuffle=False\n",
    ")"
   ]
  },
  {
   "cell_type": "code",
   "execution_count": 34,
   "id": "e5763d95",
   "metadata": {},
   "outputs": [],
   "source": [
    "def AE_MSE(data,pred):\n",
    "    return torch.mean(torch.sum((data-pred)**2,dim=1))\n",
    "\n",
    "def AE_MAE(data,pred):\n",
    "    return torch.mean(torch.sum(torch.abs(data-pred),dim=1))\n",
    "\n",
    "def weighted_AE_MSE(data, pred):\n",
    "    return torch.mean(torch.sum((data[:,0:48])**2,dim=1)*torch.sum((data-pred)**2,dim=1))\n",
    "\n",
    "def dif_weighted_AE_MSE(dat`a, pred,alpha = 1):\n",
    "    return torch.mean(((torch.sum(data[:,0:48]**2,dim=1)**0.5)*alpha+1)*(torch.sum((data-pred)**2,dim=1)))\n",
    "\n",
    "def log_dif_weighted_AE_MSE(data, pred,alpha = 1):\n",
    "    return torch.mean(torch.log((torch.sum(data[:,0:48]**2,dim=1)**0.5)*alpha+1)*(torch.sum((data-pred)**2,dim=1)))"
   ]
  },
  {
   "cell_type": "code",
   "execution_count": 42,
   "id": "56a0ddaa",
   "metadata": {},
   "outputs": [],
   "source": [
    "num_epochs = 100\n",
    "lr = 0.0045\n",
    "loss = log_dif_weighted_AE_MSE"
   ]
  },
  {
   "cell_type": "code",
   "execution_count": 43,
   "id": "9c160172",
   "metadata": {
    "scrolled": true
   },
   "outputs": [
    {
     "name": "stdout",
     "output_type": "stream",
     "text": [
      "Epoch 0, lr 0.0045\n",
      "Epoch 0: Train 0.25754720261693, Test 0.2573533058166504\n",
      "Epoch 1, lr 0.0045\n",
      "Epoch 1: Train 0.2570022059082985, Test 0.2573603689670563\n",
      "Epoch 2, lr 0.0045\n",
      "Epoch 2: Train 0.2570104503035545, Test 0.25736328959465027\n",
      "Epoch 3, lr 0.0045\n",
      "Epoch 3: Train 0.2570136491954327, Test 0.2573646306991577\n",
      "Epoch 4, lr 0.0045\n",
      "Epoch 4: Train 0.2570151609480381, Test 0.25736528635025024\n",
      "Epoch 5, lr 0.0045\n",
      "Epoch 5: Train 0.2570159243345261, Test 0.2573656141757965\n",
      "Epoch 6, lr 0.0045\n",
      "Epoch 6: Train 0.2570163213908672, Test 0.2573658525943756\n",
      "Epoch 7, lr 0.0045\n",
      "Epoch 7: Train 0.2570163907408714, Test 0.257365882396698\n",
      "Epoch 8, lr 0.0045\n",
      "Epoch 8: Train 0.2570163444876671, Test 0.25736546516418457\n",
      "Epoch 9, lr 0.0045\n",
      "Epoch 9: Train 0.25701648420095446, Test 0.2573659121990204\n",
      "Epoch 10, lr 0.0045\n",
      "Epoch 10: Train 0.25701639932394027, Test 0.2573659121990204\n",
      "Epoch 11, lr 0.00225\n",
      "Epoch 11: Train 0.2570159168839455, Test 0.25736600160598755\n",
      "Epoch 12, lr 0.00225\n",
      "Epoch 12: Train 0.2567605190873146, Test 0.2571329176425934\n",
      "Epoch 13, lr 0.00225\n",
      "Epoch 13: Train 0.2567640944421291, Test 0.2571353614330292\n",
      "Epoch 14, lr 0.00225\n",
      "Epoch 14: Train 0.2567661239206791, Test 0.25713685154914856\n"
     ]
    },
    {
     "ename": "KeyboardInterrupt",
     "evalue": "",
     "output_type": "error",
     "traceback": [
      "\u001b[0;31m---------------------------------------------------------------------------\u001b[0m",
      "\u001b[0;31mKeyboardInterrupt\u001b[0m                         Traceback (most recent call last)",
      "Cell \u001b[0;32mIn [43], line 29\u001b[0m\n\u001b[1;32m     27\u001b[0m     losses\u001b[38;5;241m.\u001b[39mappend(batch_loss\u001b[38;5;241m.\u001b[39mitem())\n\u001b[1;32m     28\u001b[0m     optimizer\u001b[38;5;241m.\u001b[39mzero_grad()\n\u001b[0;32m---> 29\u001b[0m     \u001b[43mbatch_loss\u001b[49m\u001b[38;5;241;43m.\u001b[39;49m\u001b[43mbackward\u001b[49m\u001b[43m(\u001b[49m\u001b[43m)\u001b[49m\n\u001b[1;32m     30\u001b[0m     optimizer\u001b[38;5;241m.\u001b[39mstep()\n\u001b[1;32m     31\u001b[0m scheduler\u001b[38;5;241m.\u001b[39mstep(batch_loss)\n",
      "File \u001b[0;32m/uscms_data/d3/nswood/mambaforge/envs/myenv/lib/python3.10/site-packages/torch/_tensor.py:487\u001b[0m, in \u001b[0;36mTensor.backward\u001b[0;34m(self, gradient, retain_graph, create_graph, inputs)\u001b[0m\n\u001b[1;32m    477\u001b[0m \u001b[38;5;28;01mif\u001b[39;00m has_torch_function_unary(\u001b[38;5;28mself\u001b[39m):\n\u001b[1;32m    478\u001b[0m     \u001b[38;5;28;01mreturn\u001b[39;00m handle_torch_function(\n\u001b[1;32m    479\u001b[0m         Tensor\u001b[38;5;241m.\u001b[39mbackward,\n\u001b[1;32m    480\u001b[0m         (\u001b[38;5;28mself\u001b[39m,),\n\u001b[0;32m   (...)\u001b[0m\n\u001b[1;32m    485\u001b[0m         inputs\u001b[38;5;241m=\u001b[39minputs,\n\u001b[1;32m    486\u001b[0m     )\n\u001b[0;32m--> 487\u001b[0m \u001b[43mtorch\u001b[49m\u001b[38;5;241;43m.\u001b[39;49m\u001b[43mautograd\u001b[49m\u001b[38;5;241;43m.\u001b[39;49m\u001b[43mbackward\u001b[49m\u001b[43m(\u001b[49m\n\u001b[1;32m    488\u001b[0m \u001b[43m    \u001b[49m\u001b[38;5;28;43mself\u001b[39;49m\u001b[43m,\u001b[49m\u001b[43m \u001b[49m\u001b[43mgradient\u001b[49m\u001b[43m,\u001b[49m\u001b[43m \u001b[49m\u001b[43mretain_graph\u001b[49m\u001b[43m,\u001b[49m\u001b[43m \u001b[49m\u001b[43mcreate_graph\u001b[49m\u001b[43m,\u001b[49m\u001b[43m \u001b[49m\u001b[43minputs\u001b[49m\u001b[38;5;241;43m=\u001b[39;49m\u001b[43minputs\u001b[49m\n\u001b[1;32m    489\u001b[0m \u001b[43m\u001b[49m\u001b[43m)\u001b[49m\n",
      "File \u001b[0;32m/uscms_data/d3/nswood/mambaforge/envs/myenv/lib/python3.10/site-packages/torch/autograd/__init__.py:197\u001b[0m, in \u001b[0;36mbackward\u001b[0;34m(tensors, grad_tensors, retain_graph, create_graph, grad_variables, inputs)\u001b[0m\n\u001b[1;32m    192\u001b[0m     retain_graph \u001b[38;5;241m=\u001b[39m create_graph\n\u001b[1;32m    194\u001b[0m \u001b[38;5;66;03m# The reason we repeat same the comment below is that\u001b[39;00m\n\u001b[1;32m    195\u001b[0m \u001b[38;5;66;03m# some Python versions print out the first line of a multi-line function\u001b[39;00m\n\u001b[1;32m    196\u001b[0m \u001b[38;5;66;03m# calls in the traceback and some print out the last line\u001b[39;00m\n\u001b[0;32m--> 197\u001b[0m \u001b[43mVariable\u001b[49m\u001b[38;5;241;43m.\u001b[39;49m\u001b[43m_execution_engine\u001b[49m\u001b[38;5;241;43m.\u001b[39;49m\u001b[43mrun_backward\u001b[49m\u001b[43m(\u001b[49m\u001b[43m  \u001b[49m\u001b[38;5;66;43;03m# Calls into the C++ engine to run the backward pass\u001b[39;49;00m\n\u001b[1;32m    198\u001b[0m \u001b[43m    \u001b[49m\u001b[43mtensors\u001b[49m\u001b[43m,\u001b[49m\u001b[43m \u001b[49m\u001b[43mgrad_tensors_\u001b[49m\u001b[43m,\u001b[49m\u001b[43m \u001b[49m\u001b[43mretain_graph\u001b[49m\u001b[43m,\u001b[49m\u001b[43m \u001b[49m\u001b[43mcreate_graph\u001b[49m\u001b[43m,\u001b[49m\u001b[43m \u001b[49m\u001b[43minputs\u001b[49m\u001b[43m,\u001b[49m\n\u001b[1;32m    199\u001b[0m \u001b[43m    \u001b[49m\u001b[43mallow_unreachable\u001b[49m\u001b[38;5;241;43m=\u001b[39;49m\u001b[38;5;28;43;01mTrue\u001b[39;49;00m\u001b[43m,\u001b[49m\u001b[43m \u001b[49m\u001b[43maccumulate_grad\u001b[49m\u001b[38;5;241;43m=\u001b[39;49m\u001b[38;5;28;43;01mTrue\u001b[39;49;00m\u001b[43m)\u001b[49m\n",
      "\u001b[0;31mKeyboardInterrupt\u001b[0m: "
     ]
    }
   ],
   "source": [
    "# fine-tune autoencoder\n",
    "#batch 500\n",
    "\n",
    "\n",
    "model_5 = Naive_DAE([48,100,50,20,16])\n",
    "\n",
    "optimizer = optim.Adam(model_5.parameters(), lr,weight_decay=5e-2)\n",
    "scheduler = torch.optim.lr_scheduler.ReduceLROnPlateau(optimizer, 'min',factor = 0.5)\n",
    "\n",
    "all_test_losses = []\n",
    "all_train_losses = []\n",
    "# train\n",
    "running_loss = float(\"inf\")\n",
    "for epoch in range(num_epochs):\n",
    "    \n",
    "    losses = []\n",
    "    \n",
    "    for i, data_list in enumerate(train_dl_flat):\n",
    "        model_5.train()\n",
    "        data = data_list[0]\n",
    "        v_pred = model_5(data)\n",
    "        \n",
    "        batch_loss = loss(data, v_pred) # difference between actual and reconstructed   \n",
    "        \n",
    "        \n",
    "        all_train_losses.append(batch_loss.item())\n",
    "        losses.append(batch_loss.item())\n",
    "        optimizer.zero_grad()\n",
    "        batch_loss.backward()\n",
    "        optimizer.step()\n",
    "    scheduler.step(batch_loss)\n",
    "    data_test = test\n",
    "    model_5.eval()\n",
    "    test_pred = model_5(data_test)\n",
    "    batch_test = loss(data_test, test_pred)\n",
    "    running_loss = np.mean(losses)\n",
    "    running_test_loss = batch_test.item()\n",
    "    print('Epoch {}, lr {}'.format(\n",
    "        epoch, optimizer.param_groups[0]['lr']))\n",
    "    \n",
    "    print(f\"Epoch {epoch}: Train {running_loss}, Test {running_test_loss}\")\n",
    "model_5.eval()\n",
    "AE_Stats.gen_all_stats(model_5(test),test,test_loc)\n"
   ]
  }
 ],
 "metadata": {
  "kernelspec": {
   "display_name": "Python 3 (ipykernel)",
   "language": "python",
   "name": "python3"
  },
  "language_info": {
   "codemirror_mode": {
    "name": "ipython",
    "version": 3
   },
   "file_extension": ".py",
   "mimetype": "text/x-python",
   "name": "python",
   "nbconvert_exporter": "python",
   "pygments_lexer": "ipython3",
   "version": "3.10.6"
  }
 },
 "nbformat": 4,
 "nbformat_minor": 5
}
