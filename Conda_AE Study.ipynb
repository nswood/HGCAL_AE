{
 "cells": [
  {
   "cell_type": "code",
   "execution_count": null,
   "id": "fdf103d2",
   "metadata": {},
   "outputs": [],
   "source": [
    "import os\n",
    "import sys\n",
    "import pandas as pd\n",
    "import torch.nn as nn\n",
    "import torch.optim as optim\n",
    "import numpy as np\n",
    "import torch\n",
    "import matplotlib.pyplot as plt\n",
    "from Naive_DAE import Naive_DAE,Dropout_DAE\n",
    "import AE_Stats\n",
    "from load_data_fn import load_data,load_data_no_filter\n",
    "from telescope_torch import telescopeMSE2\n",
    "from torch.autograd import Variable\n",
    "from torch.utils.data import Dataset, DataLoader, TensorDataset\n",
    "import importlib\n",
    "import time\n",
    "import ae_train\n",
    "from losses import *\n",
    "\n",
    "path = 'MIT_TTbar'\n",
    "prefixed = [filename for filename in os.listdir(path) if filename.startswith(\"dt_norm\")]\n",
    "\n",
    "data = []\n",
    "for p in prefixed:\n",
    "    data.append([torch.load(f'{path}/{p}'),p])"
   ]
  },
  {
   "cell_type": "code",
   "execution_count": 3,
   "id": "0b84e11f",
   "metadata": {},
   "outputs": [],
   "source": [
    "sum_tc = []\n",
    "for d in data:\n",
    "    dt = d[0][:,0:48]\n",
    "    sum_tc.append(torch.mean(torch.sum(dt,dim=1)))"
   ]
  },
  {
   "cell_type": "code",
   "execution_count": 5,
   "id": "777af3fe",
   "metadata": {},
   "outputs": [
    {
     "data": {
      "image/png": "[encoded data removed]",
      "text/plain": [
       "<Figure size 640x480 with 1 Axes>"
      ]
     },
     "metadata": {},
     "output_type": "display_data"
    }
   ],
   "source": [
    "plt.title('Histogram of average sum TC over all data')\n",
    "plt.hist(sum_tc)\n",
    "plt.show()"
   ]
  },
  {
   "cell_type": "code",
   "execution_count": 16,
   "id": "e972c18c",
   "metadata": {
    "scrolled": true
   },
   "outputs": [],
   "source": [
    "stats = []\n",
    "for d in data:\n",
    "    s = torch.sum(d[0][:,0:48],dim=1)\n",
    "#     plt.title(f'Sum TC distribution in {d[1]}')\n",
    "#     plt.hist(s)\n",
    "#     plt.show()\n",
    "    m = torch.mean(s)\n",
    "#     print(f'mean: {m}')\n",
    "    stats.append([d[1],m.item()])"
   ]
  },
  {
   "cell_type": "code",
   "execution_count": 17,
   "id": "b365e2c3",
   "metadata": {
    "scrolled": true
   },
   "outputs": [
    {
     "data": {
      "text/plain": [
       "[['dt_norm_3_36', 2.995450019836426],\n",
       " ['dt_norm_3_30', 3.7448925971984863],\n",
       " ['dt_norm_3_31', 3.951704978942871],\n",
       " ['dt_norm_3_33', 3.032867193222046],\n",
       " ['dt_norm_3_35', 2.5219204425811768],\n",
       " ['dt_norm_3_37', 2.8800294399261475],\n",
       " ['dt_norm_3_27', 6.187901496887207],\n",
       " ['dt_norm_3_29', 2.712803840637207],\n",
       " ['dt_norm_3_32', 3.0881106853485107],\n",
       " ['dt_norm_3_34', 3.346259832382202],\n",
       " ['dt_norm_3_38', 3.231041193008423],\n",
       " ['dt_norm_1_1', 20.858945846557617],\n",
       " ['dt_norm_1_3', 26.10483169555664],\n",
       " ['dt_norm_1_5', 27.602127075195312],\n",
       " ['dt_norm_1_7', 24.65706443786621],\n",
       " ['dt_norm_1_9', 20.70952796936035],\n",
       " ['dt_norm_1_11', 17.545988082885742],\n",
       " ['dt_norm_1_13', 14.8900146484375],\n",
       " ['dt_norm_1_15', 13.10241985321045],\n",
       " ['dt_norm_1_17', 11.4417724609375],\n",
       " ['dt_norm_1_19', 10.132476806640625],\n",
       " ['dt_norm_1_21', 9.467616081237793],\n",
       " ['dt_norm_1_23', 8.336930274963379],\n",
       " ['dt_norm_1_25', 7.885806560516357],\n",
       " ['dt_norm_1_27', 5.491463661193848],\n",
       " ['dt_norm_1_29', 3.348656415939331],\n",
       " ['dt_norm_1_30', 3.470907688140869],\n",
       " ['dt_norm_1_31', 3.674717664718628],\n",
       " ['dt_norm_1_32', 3.2516098022460938],\n",
       " ['dt_norm_1_33', 2.7670516967773438],\n",
       " ['dt_norm_2_1', 15.9617280960083],\n",
       " ['dt_norm_2_3', 15.197296142578125],\n",
       " ['dt_norm_2_5', 16.311677932739258],\n",
       " ['dt_norm_2_7', 15.894083976745605],\n",
       " ['dt_norm_2_9', 14.47871208190918],\n",
       " ['dt_norm_2_11', 12.334677696228027],\n",
       " ['dt_norm_2_13', 10.683937072753906],\n",
       " ['dt_norm_2_15', 8.654244422912598],\n",
       " ['dt_norm_2_17', 8.463483810424805],\n",
       " ['dt_norm_2_19', 9.419657707214355],\n",
       " ['dt_norm_2_21', 7.85493278503418],\n",
       " ['dt_norm_2_23', 7.6075286865234375],\n",
       " ['dt_norm_2_25', 6.474186420440674],\n",
       " ['dt_norm_2_27', 5.870284557342529],\n",
       " ['dt_norm_2_29', 2.530988931655884],\n",
       " ['dt_norm_2_30', 5.028505325317383],\n",
       " ['dt_norm_2_31', 2.8375725746154785],\n",
       " ['dt_norm_2_32', 2.261187791824341],\n",
       " ['dt_norm_2_34', 2.614783763885498],\n",
       " ['dt_norm_2_35', 2.3366355895996094],\n",
       " ['dt_norm_2_36', 2.3753278255462646],\n",
       " ['dt_norm_2_37', 2.1977312564849854],\n",
       " ['dt_norm_2_38', 2.065877914428711],\n",
       " ['dt_norm_2_39', 2.198139190673828],\n",
       " ['dt_norm_2_40', 1.5213141441345215],\n",
       " ['dt_norm_2_41', 1.2064189910888672],\n",
       " ['dt_norm_2_42', 0.9577736854553223],\n",
       " ['dt_norm_2_43', 0.9087163209915161],\n",
       " ['dt_norm_2_44', 0.711047351360321],\n",
       " ['dt_norm_2_45', 1.1342061758041382],\n",
       " ['dt_norm_3_1', 18.319049835205078],\n",
       " ['dt_norm_3_3', 12.979297637939453],\n",
       " ['dt_norm_3_5', 15.375005722045898],\n",
       " ['dt_norm_3_7', 15.503923416137695],\n",
       " ['dt_norm_3_9', 15.20720386505127],\n",
       " ['dt_norm_3_11', 12.837496757507324],\n",
       " ['dt_norm_3_13', 11.420562744140625],\n",
       " ['dt_norm_3_15', 9.561105728149414],\n",
       " ['dt_norm_3_17', 9.019853591918945],\n",
       " ['dt_norm_3_19', 8.260616302490234],\n",
       " ['dt_norm_3_21', 8.13481330871582],\n",
       " ['dt_norm_3_23', 7.746236324310303],\n",
       " ['dt_norm_3_25', 7.584226131439209],\n",
       " ['dt_norm_3_39', 2.434387445449829],\n",
       " ['dt_norm_3_40', 1.5620322227478027],\n",
       " ['dt_norm_3_41', 1.3744430541992188],\n",
       " ['dt_norm_3_42', 1.0700511932373047],\n",
       " ['dt_norm_3_43', 1.272627353668213],\n",
       " ['dt_norm_3_44', 1.041356086730957],\n",
       " ['dt_norm_3_45', 1.3408730030059814],\n",
       " ['dt_norm_3_46', 1.1826505661010742],\n",
       " ['dt_norm_3_47', 1.2334247827529907]]"
      ]
     },
     "execution_count": 17,
     "metadata": {},
     "output_type": "execute_result"
    }
   ],
   "source": [
    "stats"
   ]
  },
  {
   "cell_type": "code",
   "execution_count": 32,
   "id": "3fdd89b9",
   "metadata": {},
   "outputs": [],
   "source": [
    "path = 'MIT_TTbar'\n",
    "prefixed = [filename for filename in os.listdir(path) if filename.startswith(\"dt_norm\")]\n",
    "\n",
    "for p,m in zip(prefixed,stats):\n",
    "    raw = torch.load(f'{path}/{p}')\n",
    "    s = torch.sum(raw[:,0:48],dim=1)\n",
    "    high = raw[s >= m[1]]\n",
    "    low = raw[ s < m[1]]\n",
    "    torch.save(high,f'{path}/{p}_high')\n",
    "    torch.save(low,f'{path}/{p}_low')"
   ]
  }
 ],
 "metadata": {
  "kernelspec": {
   "display_name": "Python 3 (ipykernel)",
   "language": "python",
   "name": "python3"
  },
  "language_info": {
   "codemirror_mode": {
    "name": "ipython",
    "version": 3
   },
   "file_extension": ".py",
   "mimetype": "text/x-python",
   "name": "python",
   "nbconvert_exporter": "python",
   "pygments_lexer": "ipython3",
   "version": "3.10.6"
  }
 },
 "nbformat": 4,
 "nbformat_minor": 5
}
