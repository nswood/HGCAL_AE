{
 "cells": [
  {
   "cell_type": "code",
   "execution_count": 1,
   "id": "2fa4711a",
   "metadata": {},
   "outputs": [],
   "source": [
    "import os\n",
    "import sys\n",
    "import pandas as pd\n",
    "import torch.nn as nn\n",
    "import torch.optim as optim\n",
    "import numpy as np\n",
    "import torch\n",
    "import matplotlib.pyplot as plt\n",
    "from Naive_DAE import Naive_DAE,Dropout_DAE\n",
    "import AE_Stats\n",
    "from load_data_fn import load_data,load_data_no_filter\n",
    "\n",
    "from torch.autograd import Variable\n",
    "from torch.utils.data import Dataset, DataLoader, TensorDataset\n",
    "import importlib\n",
    "import time\n",
    "import ae_train\n",
    "from losses import *\n",
    "from telescope_torch import *\n",
    "\n",
    "path = 'MIT_TTbar'\n",
    "prefixed = [filename for filename in os.listdir(path) if filename.startswith(\"dt_norm\")]\n",
    "\n",
    "data = []\n",
    "for p in prefixed:\n",
    "    data.append([torch.load(f'{path}/{p}'),p])"
   ]
  },
  {
   "cell_type": "code",
   "execution_count": 90,
   "id": "869ce9aa",
   "metadata": {},
   "outputs": [],
   "source": [
    "dt = data[0][0]"
   ]
  },
  {
   "cell_type": "code",
   "execution_count": 56,
   "id": "37de9680",
   "metadata": {},
   "outputs": [],
   "source": []
  },
  {
   "cell_type": "code",
   "execution_count": 63,
   "id": "ba7a0e4b",
   "metadata": {},
   "outputs": [],
   "source": []
  },
  {
   "cell_type": "code",
   "execution_count": 87,
   "id": "b0ce343a",
   "metadata": {},
   "outputs": [],
   "source": [
    "def manual_encode(wafer):\n",
    "    latent = np.zeros(16)\n",
    "    index = torch.nonzero(cur)\n",
    "    non_zero = wafer[index]\n",
    "    latent[0] = 1234\n",
    "    for i in range(len(non_zero)):\n",
    "        c = non_zero[i]\n",
    "        ind = index[i]\n",
    "        latent[i+1] = c\n",
    "        latent[i+8] = index[i]\n",
    "    return torch.tensor(latent).float()\n",
    "def manual_dencode(latent):\n",
    "    if int(latent[0]) == 1234:\n",
    "        wafer = np.zeros(48)\n",
    "        for i in range(7):\n",
    "            val = latent[i+1]\n",
    "            if val == 0:\n",
    "                break\n",
    "            wafer[int(latent[i+8])] = val\n",
    "        return torch.tensor(wafer).float()\n",
    "class Conditional_AE(nn.Module):\n",
    "\n",
    "    def __init__(self, models):\n",
    "        super(Naive_DAE, self).__init__()\n",
    "\n",
    "        self.models = models\n",
    "        \n",
    "    def forward(self, x):\n",
    "        \n",
    "        x_encoded = self.encode(x)\n",
    "        x_reconstructed = self.decode(x_encoded)\n",
    "        return x_reconstructed\n",
    "\n",
    "    def encode(self, x):\n",
    "        \n",
    "        out = torch.zeros(len(x),16)\n",
    "        for i in len(x):\n",
    "            c = x[i]\n",
    "            if torch.count_nonzero(c) < 8:\n",
    "                out[i] = manual_encode(c)\n",
    "            else:\n",
    "                out[i] = self.model.encode(c)        \n",
    "        return out\n",
    "    \n",
    "    def decode(self, x):\n",
    "        out = torch.zeros(len(x),16)\n",
    "        \n",
    "        for i in len(x):\n",
    "            c = x[i]\n",
    "            if int(c[0]) == 1234:\n",
    "                out[i] = manual_dencode(c)\n",
    "            else:\n",
    "                out[i] = self.model.decode(c)\n",
    "        return out"
   ]
  }
 ],
 "metadata": {
  "kernelspec": {
   "display_name": "Python 3 (ipykernel)",
   "language": "python",
   "name": "python3"
  },
  "language_info": {
   "codemirror_mode": {
    "name": "ipython",
    "version": 3
   },
   "file_extension": ".py",
   "mimetype": "text/x-python",
   "name": "python",
   "nbconvert_exporter": "python",
   "pygments_lexer": "ipython3",
   "version": "3.10.6"
  }
 },
 "nbformat": 4,
 "nbformat_minor": 5
}
