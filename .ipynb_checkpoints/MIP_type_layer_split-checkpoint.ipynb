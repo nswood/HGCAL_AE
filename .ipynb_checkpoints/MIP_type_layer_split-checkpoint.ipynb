{
 "cells": [
  {
   "cell_type": "markdown",
   "id": "b9a99626",
   "metadata": {},
   "source": [
    "# Overview:\n",
    "From testing it seems that we can perform two splits to drastically improve performance.\n",
    "1) splitting based on wafer type\n",
    "2) further splitting based on layer\n",
    "\n",
    "Both of these splittings are physically possible, and we can train an autoencoder for each individual splitting "
   ]
  },
  {
   "cell_type": "code",
   "execution_count": 1,
   "id": "c2fb2dc2",
   "metadata": {},
   "outputs": [],
   "source": [
    "import os\n",
    "import sys\n",
    "import pandas as pd\n",
    "import torch.nn as nn\n",
    "import torch.optim as optim\n",
    "import numpy as np\n",
    "import torch\n",
    "import matplotlib.pyplot as plt\n",
    "from Naive_DAE import Naive_DAE,Dropout_DAE\n",
    "import AE_Stats\n",
    "from load_data_fn import load_data,load_data_no_filter\n",
    "\n",
    "from torch.autograd import Variable\n",
    "from torch.utils.data import Dataset, DataLoader, TensorDataset\n",
    "import importlib\n",
    "import time\n",
    "from ae_train import *\n",
    "from losses import *\n"
   ]
  },
  {
   "cell_type": "code",
   "execution_count": 2,
   "id": "488e9972",
   "metadata": {},
   "outputs": [],
   "source": [
    "device = torch.device('cuda' if torch.cuda.is_available() else 'cpu')"
   ]
  },
  {
   "cell_type": "code",
   "execution_count": 2,
   "id": "9e5d4175",
   "metadata": {},
   "outputs": [],
   "source": [
    "n = 400\n",
    "\n",
    "arr = torch.load('MIT_TTbar/ntuple_1_greater_1_sim')\n",
    "\n",
    "if n > 0:\n",
    "    for i in range(n):\n",
    "        arr = torch.vstack([arr,torch.load(f'MIT_TTbar/ntuple_{int(n+2)}_greater_1_sim')])\n",
    "\n"
   ]
  },
  {
   "cell_type": "code",
   "execution_count": 3,
   "id": "ddceeef6",
   "metadata": {},
   "outputs": [
    {
     "name": "stdout",
     "output_type": "stream",
     "text": [
      "There are 9721958 wafers with sim energy > 1 \n",
      "mean MIP is: 1.0061618816751072\n",
      "max MIP is: 633.880615234375\n"
     ]
    }
   ],
   "source": [
    "print(f'There are {len(arr)} wafers with sim energy > 1 ')\n",
    "print(f'mean MIP is: {torch.mean(arr[:,0:48])}')\n",
    "print(f'max MIP is: {torch.max(arr[:,0:48])}')"
   ]
  },
  {
   "cell_type": "code",
   "execution_count": 19,
   "id": "f7c7b99a",
   "metadata": {},
   "outputs": [],
   "source": [
    "norm_arr = arr.clone()"
   ]
  },
  {
   "cell_type": "code",
   "execution_count": 17,
   "id": "6ef42d3b",
   "metadata": {},
   "outputs": [],
   "source": [
    "std = torch.std(arr[:,0:48])"
   ]
  },
  {
   "cell_type": "code",
   "execution_count": 18,
   "id": "419aa4f4",
   "metadata": {},
   "outputs": [
    {
     "data": {
      "text/plain": [
       "tensor(3.5280, dtype=torch.float64)"
      ]
     },
     "execution_count": 18,
     "metadata": {},
     "output_type": "execute_result"
    }
   ],
   "source": [
    "std"
   ]
  },
  {
   "cell_type": "code",
   "execution_count": 20,
   "id": "73cae754",
   "metadata": {},
   "outputs": [],
   "source": [
    "norm_arr[:,0:48] = norm_arr[:,0:48]/std"
   ]
  },
  {
   "cell_type": "code",
   "execution_count": 23,
   "id": "39563907",
   "metadata": {},
   "outputs": [
    {
     "data": {
      "text/plain": [
       "tensor(1.0000, dtype=torch.float64)"
      ]
     },
     "execution_count": 23,
     "metadata": {},
     "output_type": "execute_result"
    }
   ],
   "source": [
    "norm_arr[:,0:48].std()"
   ]
  },
  {
   "cell_type": "code",
   "execution_count": 24,
   "id": "6ec77287",
   "metadata": {},
   "outputs": [
    {
     "data": {
      "text/plain": [
       "tensor(0.2852, dtype=torch.float64)"
      ]
     },
     "execution_count": 24,
     "metadata": {},
     "output_type": "execute_result"
    }
   ],
   "source": [
    "norm_arr[:,0:48].mean()"
   ]
  },
  {
   "cell_type": "code",
   "execution_count": 25,
   "id": "41646bd6",
   "metadata": {},
   "outputs": [],
   "source": [
    "dt_1 = []\n",
    "dt_2 = []\n",
    "dt_3 = []\n",
    "for a in norm_arr:\n",
    "    \n",
    "    if a[-2].item() ==0.: \n",
    "        dt_1.append(a)\n",
    "    elif a[-2].item() == 1.:\n",
    "        dt_2.append(a)\n",
    "    else:\n",
    "        dt_3.append(a)\n",
    "    \n",
    "    \n",
    "dt_1 = torch.vstack(dt_1).float()\n",
    "dt_2 = torch.vstack(dt_2).float()\n",
    "dt_3 = torch.vstack(dt_3).float()\n"
   ]
  },
  {
   "cell_type": "markdown",
   "id": "2a4dd5a0",
   "metadata": {},
   "source": [
    "# Wafer type 0"
   ]
  },
  {
   "cell_type": "code",
   "execution_count": 12,
   "id": "be459cf4",
   "metadata": {
    "scrolled": true
   },
   "outputs": [
    {
     "data": {
      "text/plain": [
       "6121747"
      ]
     },
     "execution_count": 12,
     "metadata": {},
     "output_type": "execute_result"
    }
   ],
   "source": [
    "len(dt_1)"
   ]
  },
  {
   "cell_type": "code",
   "execution_count": 27,
   "id": "33980deb",
   "metadata": {},
   "outputs": [
    {
     "data": {
      "image/png": "[encoded data removed]",
      "text/plain": [
       "<Figure size 640x480 with 1 Axes>"
      ]
     },
     "metadata": {},
     "output_type": "display_data"
    },
    {
     "name": "stdout",
     "output_type": "stream",
     "text": [
      "[ 1.  3.  5.  7.  9. 11. 13. 15. 17. 19. 21. 23. 25. 27. 29. 30. 31. 32.\n",
      " 33.]\n",
      "There are 19 autoencoders for dt_1\n"
     ]
    }
   ],
   "source": [
    "plt.title('Distribution events by layer')\n",
    "plt.hist(dt_1[:,-6])\n",
    "plt.show()\n",
    "layers = np.unique(dt_1[:,-6].numpy())\n",
    "print(layers)\n",
    "print(f'There are {len(layers)} autoencoders for dt_1')"
   ]
  },
  {
   "cell_type": "code",
   "execution_count": 29,
   "id": "46ddd454",
   "metadata": {},
   "outputs": [],
   "source": [
    "for i in range(len(layers)):\n",
    "    cur = layers[i]\n",
    "    dt_1_cur = []\n",
    "\n",
    "\n",
    "\n",
    "    for a in dt_1:\n",
    "\n",
    "        if a[-6].item() == cur: \n",
    "            dt_1_cur.append(a)\n",
    "\n",
    "\n",
    "    dt_1_cur = torch.vstack(dt_1_cur).float()\n",
    "    torch.save(dt_1_cur,f'MIT_TTbar/dt_norm_1_{int(cur)}')"
   ]
  },
  {
   "cell_type": "markdown",
   "id": "823eae40",
   "metadata": {},
   "source": [
    "# Wafer type 1"
   ]
  },
  {
   "cell_type": "code",
   "execution_count": 10,
   "id": "69685d5b",
   "metadata": {},
   "outputs": [
    {
     "data": {
      "text/plain": [
       "1267217"
      ]
     },
     "execution_count": 10,
     "metadata": {},
     "output_type": "execute_result"
    }
   ],
   "source": [
    "len(dt_2)"
   ]
  },
  {
   "cell_type": "code",
   "execution_count": 30,
   "id": "27815797",
   "metadata": {},
   "outputs": [
    {
     "data": {
      "image/png": "[encoded data removed]",
      "text/plain": [
       "<Figure size 640x480 with 1 Axes>"
      ]
     },
     "metadata": {},
     "output_type": "display_data"
    },
    {
     "name": "stdout",
     "output_type": "stream",
     "text": [
      "[ 1.  3.  5.  7.  9. 11. 13. 15. 17. 19. 21. 23. 25. 27. 29. 30. 31. 32.\n",
      " 34. 35. 36. 37. 38. 39. 40. 41. 42. 43. 44. 45.]\n",
      "There are 30 autoencoders for dt_2\n"
     ]
    }
   ],
   "source": [
    "plt.title('Distribution events by layer')\n",
    "plt.hist(dt_2[:,-6])\n",
    "plt.show()\n",
    "layers = np.unique(dt_2[:,-6].numpy())\n",
    "print(layers)\n",
    "print(f'There are {len(layers)} autoencoders for dt_2')"
   ]
  },
  {
   "cell_type": "code",
   "execution_count": 31,
   "id": "10faee1a",
   "metadata": {},
   "outputs": [],
   "source": [
    "for i in range(len(layers)):\n",
    "    cur = layers[i]\n",
    "    dt_2_cur = []\n",
    "\n",
    "\n",
    "\n",
    "    for a in dt_2:\n",
    "\n",
    "        if a[-6].item() == cur: \n",
    "            dt_2_cur.append(a)\n",
    "\n",
    "\n",
    "    dt_2_cur = torch.vstack(dt_2_cur).float()\n",
    "    torch.save(dt_2_cur,f'MIT_TTbar/dt_norm_2_{int(cur)}')"
   ]
  },
  {
   "cell_type": "markdown",
   "id": "52672cdd",
   "metadata": {},
   "source": [
    "# Wafer type 2"
   ]
  },
  {
   "cell_type": "code",
   "execution_count": 30,
   "id": "78244186",
   "metadata": {},
   "outputs": [
    {
     "data": {
      "text/plain": [
       "2332994"
      ]
     },
     "execution_count": 30,
     "metadata": {},
     "output_type": "execute_result"
    }
   ],
   "source": [
    "len(dt_3)"
   ]
  },
  {
   "cell_type": "code",
   "execution_count": 32,
   "id": "510e54d5",
   "metadata": {},
   "outputs": [
    {
     "data": {
      "image/png": "[encoded data removed]",
      "text/plain": [
       "<Figure size 640x480 with 1 Axes>"
      ]
     },
     "metadata": {},
     "output_type": "display_data"
    },
    {
     "name": "stdout",
     "output_type": "stream",
     "text": [
      "[ 1.  3.  5.  7.  9. 11. 13. 15. 17. 19. 21. 23. 25. 27. 29. 30. 31. 32.\n",
      " 33. 34. 35. 36. 37. 38. 39. 40. 41. 42. 43. 44. 45. 46. 47.]\n",
      "There are 33 autoencoders for dt_3\n"
     ]
    }
   ],
   "source": [
    "plt.title('Distribution events by layer')\n",
    "plt.hist(dt_3[:,-6])\n",
    "plt.show()\n",
    "layers = np.unique(dt_3[:,-6].numpy())\n",
    "print(layers)\n",
    "print(f'There are {len(layers)} autoencoders for dt_3')"
   ]
  },
  {
   "cell_type": "code",
   "execution_count": 33,
   "id": "3779d7a2",
   "metadata": {},
   "outputs": [],
   "source": [
    "for i in range(len(layers)):\n",
    "    cur = layers[i]\n",
    "    dt_3_cur = []\n",
    "\n",
    "\n",
    "\n",
    "    for a in dt_3:\n",
    "\n",
    "        if a[-6].item() == cur: \n",
    "            dt_3_cur.append(a)\n",
    "\n",
    "\n",
    "    dt_3_cur = torch.vstack(dt_3_cur).float()\n",
    "    torch.save(dt_3_cur,f'MIT_TTbar/dt_norm_3_{int(cur)}')"
   ]
  },
  {
   "cell_type": "code",
   "execution_count": null,
   "id": "7051857b",
   "metadata": {},
   "outputs": [],
   "source": []
  }
 ],
 "metadata": {
  "kernelspec": {
   "display_name": "Python 3 (ipykernel)",
   "language": "python",
   "name": "python3"
  },
  "language_info": {
   "codemirror_mode": {
    "name": "ipython",
    "version": 3
   },
   "file_extension": ".py",
   "mimetype": "text/x-python",
   "name": "python",
   "nbconvert_exporter": "python",
   "pygments_lexer": "ipython3",
   "version": "3.10.6"
  }
 },
 "nbformat": 4,
 "nbformat_minor": 5
}
