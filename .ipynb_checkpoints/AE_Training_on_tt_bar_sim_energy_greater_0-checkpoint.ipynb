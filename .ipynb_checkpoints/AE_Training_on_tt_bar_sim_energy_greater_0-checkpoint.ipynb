{
 "cells": [
  {
   "cell_type": "code",
   "execution_count": 1,
   "id": "43f4bb28",
   "metadata": {},
   "outputs": [],
   "source": [
    "import os\n",
    "import sys\n",
    "import pandas as pd\n",
    "import torch.nn as nn\n",
    "import torch.optim as optim\n",
    "import numpy as np\n",
    "import torch\n",
    "import matplotlib.pyplot as plt\n",
    "from Naive_DAE import Naive_DAE,Dropout_DAE\n",
    "import AE_Stats\n",
    "from load_data_fn import load_data,load_data_no_filter\n",
    "\n",
    "from torch.autograd import Variable\n",
    "from torch.utils.data import Dataset, DataLoader, TensorDataset\n",
    "import importlib\n"
   ]
  },
  {
   "cell_type": "code",
   "execution_count": 2,
   "id": "35c0d632",
   "metadata": {},
   "outputs": [
    {
     "data": {
      "text/plain": [
       "<module 'AE_Stats' from '/uscms_data/d3/nswood/Notebooks/AE_Dev/AE_Stats.py'>"
      ]
     },
     "execution_count": 2,
     "metadata": {},
     "output_type": "execute_result"
    }
   ],
   "source": [
    "import importlib\n",
    "importlib.reload(AE_Stats)"
   ]
  },
  {
   "cell_type": "code",
   "execution_count": 3,
   "id": "56ee0a6b",
   "metadata": {},
   "outputs": [],
   "source": [
    "n = 80\n",
    "\n",
    "arr = torch.load('data/TTBAR/ttbar_1_greater_0_sim')\n",
    "if n > 0:\n",
    "    for i in range(n):\n",
    "        arr = torch.vstack([arr,torch.load(f'data/TTBAR/ttbar_{int(n+2)}_greater_0_sim')])\n",
    "\n"
   ]
  },
  {
   "cell_type": "code",
   "execution_count": 4,
   "id": "8e35c06a",
   "metadata": {
    "scrolled": false
   },
   "outputs": [
    {
     "name": "stdout",
     "output_type": "stream",
     "text": [
      "There are 892079 wafers with sim energy > 0 \n",
      "mean calcq is: 16.369503009262633\n",
      "max calcq is: 10788.0\n"
     ]
    }
   ],
   "source": [
    "print(f'There are {len(arr)} wafers with sim energy > 0 ')\n",
    "print(f'mean calcq is: {torch.mean(arr[:,0:48])}')\n",
    "print(f'max calcq is: {torch.max(arr[:,0:48])}')"
   ]
  },
  {
   "cell_type": "code",
   "execution_count": 5,
   "id": "6e32fa77",
   "metadata": {},
   "outputs": [],
   "source": [
    "dt_1 = []\n",
    "dt_2 = []\n",
    "dt_3 = []\n",
    "\n",
    "for a in arr:\n",
    "    \n",
    "    if a[-4].item() ==0.: \n",
    "        dt_1.append(a)\n",
    "    elif a[-4].item() ==1.0: \n",
    "        dt_2.append(a)\n",
    "    else:\n",
    "        dt_3.append(a)\n",
    "    \n",
    "dt_1 = torch.vstack(dt_1).float()\n",
    "dt_2 = torch.vstack(dt_2).float()   \n",
    "dt_3 = torch.vstack(dt_3).float()   "
   ]
  },
  {
   "cell_type": "code",
   "execution_count": 6,
   "id": "bea71773",
   "metadata": {},
   "outputs": [
    {
     "name": "stdout",
     "output_type": "stream",
     "text": [
      "432654 wafers of type 0\n",
      "mean calcq: 27.600881576538086\n",
      "std calcq: 51.770050048828125\n"
     ]
    }
   ],
   "source": [
    "print(f'{len(dt_1)} wafers of type 0')\n",
    "print(f'mean calcq: {torch.mean(dt_1[:,0:48])}')\n",
    "print(f'std calcq: {torch.std(dt_1[:,0:48])}')\n",
    "mean_dt_1 = torch.mean(dt_1[:,0:48])\n",
    "std_dt_1 = torch.std(dt_1[:,0:48])"
   ]
  },
  {
   "cell_type": "code",
   "execution_count": 7,
   "id": "0c40bf50",
   "metadata": {},
   "outputs": [
    {
     "name": "stdout",
     "output_type": "stream",
     "text": [
      "325153 wafers of type 0\n",
      "mean calcq: 6.9415388107299805\n",
      "std calcq: 36.54729461669922\n"
     ]
    }
   ],
   "source": [
    "print(f'{len(dt_2)} wafers of type 0')\n",
    "print(f'mean calcq: {torch.mean(dt_2[:,0:48])}')\n",
    "print(f'std calcq: {torch.std(dt_2[:,0:48])}')\n",
    "mean_dt_2 = torch.mean(dt_2[:,0:48])\n",
    "std_dt_2 = torch.std(dt_2[:,0:48])"
   ]
  },
  {
   "cell_type": "code",
   "execution_count": 8,
   "id": "13de30aa",
   "metadata": {
    "scrolled": true
   },
   "outputs": [
    {
     "name": "stdout",
     "output_type": "stream",
     "text": [
      "134272 wafers of type 0\n",
      "mean calcq: 3.010667085647583\n",
      "std calcq: 57.36779022216797\n"
     ]
    }
   ],
   "source": [
    "print(f'{len(dt_3)} wafers of type 0')\n",
    "print(f'mean calcq: {torch.mean(dt_3[:,0:48])}')\n",
    "print(f'std calcq: {torch.std(dt_3[:,0:48])}')\n",
    "mean_dt_3 = torch.mean(dt_3[:,0:48])\n",
    "std_dt_3 = torch.std(dt_3[:,0:48])"
   ]
  },
  {
   "cell_type": "code",
   "execution_count": 9,
   "id": "9628303d",
   "metadata": {},
   "outputs": [
    {
     "data": {
      "image/png": "[encoded data removed]",
      "text/plain": [
       "<Figure size 640x480 with 1 Axes>"
      ]
     },
     "metadata": {},
     "output_type": "display_data"
    }
   ],
   "source": [
    "plt.title('Wafer type layout')\n",
    "plt.scatter(arr[0:50000,-7],arr[0:50000,-6], c = arr[0:50000,-4])\n",
    "plt.show() "
   ]
  },
  {
   "cell_type": "code",
   "execution_count": 10,
   "id": "e5568a74",
   "metadata": {},
   "outputs": [],
   "source": [
    "dt_1[:,0:48] = (dt_1[:,0:48] - torch.mean(dt_1[:,0:48]))/torch.std(dt_1[:,0:48])\n",
    "dt_2[:,0:48] = (dt_2[:,0:48] - torch.mean(dt_2[:,0:48]))/torch.std(dt_2[:,0:48])\n",
    "dt_3[:,0:48] = (dt_3[:,0:48] - torch.mean(dt_3[:,0:48]))/torch.std(dt_3[:,0:48])"
   ]
  },
  {
   "cell_type": "code",
   "execution_count": 11,
   "id": "8bd3d909",
   "metadata": {},
   "outputs": [],
   "source": [
    "\n",
    "size_train =400000\n",
    "size_test = 20000\n",
    "train_loc = dt_1[0:size_train]\n",
    "test_loc = dt_1[-size_test:]\n",
    "# train = torch.vstack([train,largest[0:1000]] )\n",
    "train_loc=train_loc[torch.randperm(train_loc.size()[0])]\n",
    "test_loc=test_loc[torch.randperm(test_loc.size()[0])]\n",
    "train_loc_d1_flat = DataLoader(\n",
    "    TensorDataset(torch.Tensor(train_loc)),\n",
    "    batch_size=50,\n",
    "    shuffle=False\n",
    ")\n",
    "\n",
    "test_loc_d1_flat = DataLoader(\n",
    "    TensorDataset(torch.Tensor(test_loc)),\n",
    "    batch_size=50,\n",
    "    shuffle=False\n",
    ")\n",
    "\n",
    "train = dt_1[0:size_train,0:48]\n",
    "test = dt_1[-size_test:,0:48]\n",
    "# train = torch.vstack([train,largest[0:1000]] )\n",
    "train=train[torch.randperm(train.size()[0])]\n",
    "test=test[torch.randperm(test.size()[0])]\n",
    "train_d1_flat = DataLoader(\n",
    "    TensorDataset(torch.Tensor(train)),\n",
    "    batch_size=50,\n",
    "    shuffle=False\n",
    ")\n",
    "\n",
    "test_d1_flat = DataLoader(\n",
    "    TensorDataset(torch.Tensor(test)),\n",
    "    batch_size=50,\n",
    "    shuffle=False\n",
    ")"
   ]
  },
  {
   "cell_type": "code",
   "execution_count": 12,
   "id": "0b484810",
   "metadata": {},
   "outputs": [],
   "source": [
    "size_train =300000\n",
    "size_test = 20000\n",
    "train_loc = dt_2[0:size_train]\n",
    "test_loc = dt_2[-size_test:]\n",
    "# train = torch.vstack([train,largest[0:1000]] )\n",
    "train_loc=train_loc[torch.randperm(train_loc.size()[0])]\n",
    "test_loc=test_loc[torch.randperm(test_loc.size()[0])]\n",
    "train_loc_d2_flat = DataLoader(\n",
    "    TensorDataset(torch.Tensor(train_loc)),\n",
    "    batch_size=50,\n",
    "    shuffle=False\n",
    ")\n",
    "\n",
    "test_loc_d2_flat = DataLoader(\n",
    "    TensorDataset(torch.Tensor(test_loc)),\n",
    "    batch_size=50,\n",
    "    shuffle=False\n",
    ")\n",
    "\n",
    "train = dt_2[0:size_train,0:48]\n",
    "test = dt_2[-size_test:,0:48]\n",
    "# train = torch.vstack([train,largest[0:1000]] )\n",
    "train=train[torch.randperm(train.size()[0])]\n",
    "test=test[torch.randperm(test.size()[0])]\n",
    "train_d2_flat = DataLoader(\n",
    "    TensorDataset(torch.Tensor(train)),\n",
    "    batch_size=50,\n",
    "    shuffle=False\n",
    ")\n",
    "\n",
    "test_d2_flat = DataLoader(\n",
    "    TensorDataset(torch.Tensor(test)),\n",
    "    batch_size=50,\n",
    "    shuffle=False\n",
    ")"
   ]
  },
  {
   "cell_type": "code",
   "execution_count": 13,
   "id": "8b793d2a",
   "metadata": {},
   "outputs": [],
   "source": [
    "size_train =100000\n",
    "size_test = 20000\n",
    "train_loc = dt_3[0:size_train]\n",
    "test_loc = dt_3[-size_test:]\n",
    "# train = torch.vstack([train,largest[0:1000]] )\n",
    "train_loc=train_loc[torch.randperm(train_loc.size()[0])]\n",
    "test_loc=test_loc[torch.randperm(test_loc.size()[0])]\n",
    "train_loc_d3_flat = DataLoader(\n",
    "    TensorDataset(torch.Tensor(train_loc)),\n",
    "    batch_size=50,\n",
    "    shuffle=False\n",
    ")\n",
    "\n",
    "test_loc_d3_flat = DataLoader(\n",
    "    TensorDataset(torch.Tensor(test_loc)),\n",
    "    batch_size=50,\n",
    "    shuffle=False\n",
    ")\n",
    "\n",
    "train = dt_3[0:size_train,0:48]\n",
    "test = dt_3[-size_test:,0:48]\n",
    "# train = torch.vstack([train,largest[0:1000]] )\n",
    "train=train[torch.randperm(train.size()[0])]\n",
    "test=test[torch.randperm(test.size()[0])]\n",
    "train_d3_flat = DataLoader(\n",
    "    TensorDataset(torch.Tensor(train)),\n",
    "    batch_size=50,\n",
    "    shuffle=False\n",
    ")\n",
    "\n",
    "test_d3_flat = DataLoader(\n",
    "    TensorDataset(torch.Tensor(test)),\n",
    "    batch_size=50,\n",
    "    shuffle=False\n",
    ")"
   ]
  },
  {
   "cell_type": "code",
   "execution_count": 111,
   "id": "9faf8457",
   "metadata": {},
   "outputs": [],
   "source": [
    "def AE_MSE(data,pred):\n",
    "    return torch.mean(torch.sum((data-pred)**2,dim=1))\n",
    "\n",
    "def AE_MAE(data,pred):\n",
    "    return torch.mean(torch.sum(torch.abs(data-pred),dim=1))\n",
    "\n",
    "def weighted_AE_MSE(data, pred):\n",
    "    return torch.mean(torch.sum((data[:,0:48])**2,dim=1)*torch.sum((data-pred)**2,dim=1))\n",
    "\n",
    "def dif_weighted_AE_MSE(data, pred,alpha = 0.25):\n",
    "    return torch.mean(((torch.sum(data[:,0:48]**2,dim=1)**0.5)*alpha+1)*(torch.sum((data-pred)**2,dim=1)))\n",
    "\n",
    "def log_dif_weighted_AE_MSE(data, pred,alpha = 1):\n",
    "    return torch.mean(torch.log((torch.sum(data[:,0:48]**2,dim=1)**0.5)*alpha+1)*(torch.sum((data-pred)**2,dim=1)))\n",
    "\n",
    "def calcQ_Error(data,pred, mean,std):\n",
    "    return torch.mean(torch.sum(torch.abs(data-pred),dim=1))*std\n",
    "    \n",
    "def std_error(data,pred):\n",
    "    return torch.mean(torch.sum(torch.abs(torch.subtract(data,pred)),dim=1))\n",
    "\n",
    "def new_loss(data,pred,epoch,mean,std,cut = 100):\n",
    "    #Reconstruction\n",
    "    error = dif_weighted_AE_MSE(data,pred)\n",
    "    if epoch < cut:\n",
    "        return error + std_error(data,pred)\n",
    "    else:\n",
    "        #Energy Conservation\n",
    "        sum_dt, sum_pred = torch.sum(data, dim=1), torch.sum(pred,dim=1)\n",
    "        sum_error = torch.sum(torch.norm(sum_dt-sum_pred))\n",
    "        \n",
    "\n",
    "        return  error +std_error(data,pred)+ torch.log(calcQ_Error(data,pred,mean,std))+ 0.2*sum_error*np.min([(epoch-cut)/cut,1])"
   ]
  },
  {
   "cell_type": "code",
   "execution_count": 112,
   "id": "56a52d44",
   "metadata": {},
   "outputs": [],
   "source": [
    "num_epochs =200\n",
    "lr = 0.00045\n",
    "loss =new_loss"
   ]
  },
  {
   "cell_type": "code",
   "execution_count": 114,
   "id": "defe76eb",
   "metadata": {
    "scrolled": true
   },
   "outputs": [
    {
     "ename": "KeyboardInterrupt",
     "evalue": "",
     "output_type": "error",
     "traceback": [
      "\u001b[0;31m---------------------------------------------------------------------------\u001b[0m",
      "\u001b[0;31mKeyboardInterrupt\u001b[0m                         Traceback (most recent call last)",
      "Cell \u001b[0;32mIn [114], line 32\u001b[0m\n\u001b[1;32m     30\u001b[0m     optimizer\u001b[38;5;241m.\u001b[39mzero_grad()\n\u001b[1;32m     31\u001b[0m     batch_loss\u001b[38;5;241m.\u001b[39mbackward()\n\u001b[0;32m---> 32\u001b[0m     \u001b[43moptimizer\u001b[49m\u001b[38;5;241;43m.\u001b[39;49m\u001b[43mstep\u001b[49m\u001b[43m(\u001b[49m\u001b[43m)\u001b[49m\n\u001b[1;32m     33\u001b[0m scheduler\u001b[38;5;241m.\u001b[39mstep(batch_loss)\n\u001b[1;32m     34\u001b[0m data_test \u001b[38;5;241m=\u001b[39m test\n",
      "File \u001b[0;32m/uscms_data/d3/nswood/mambaforge/envs/myenv/lib/python3.10/site-packages/torch/optim/optimizer.py:140\u001b[0m, in \u001b[0;36mOptimizer._hook_for_profile.<locals>.profile_hook_step.<locals>.wrapper\u001b[0;34m(*args, **kwargs)\u001b[0m\n\u001b[1;32m    138\u001b[0m profile_name \u001b[38;5;241m=\u001b[39m \u001b[38;5;124m\"\u001b[39m\u001b[38;5;124mOptimizer.step#\u001b[39m\u001b[38;5;132;01m{}\u001b[39;00m\u001b[38;5;124m.step\u001b[39m\u001b[38;5;124m\"\u001b[39m\u001b[38;5;241m.\u001b[39mformat(obj\u001b[38;5;241m.\u001b[39m\u001b[38;5;18m__class__\u001b[39m\u001b[38;5;241m.\u001b[39m\u001b[38;5;18m__name__\u001b[39m)\n\u001b[1;32m    139\u001b[0m \u001b[38;5;28;01mwith\u001b[39;00m torch\u001b[38;5;241m.\u001b[39mautograd\u001b[38;5;241m.\u001b[39mprofiler\u001b[38;5;241m.\u001b[39mrecord_function(profile_name):\n\u001b[0;32m--> 140\u001b[0m     out \u001b[38;5;241m=\u001b[39m \u001b[43mfunc\u001b[49m\u001b[43m(\u001b[49m\u001b[38;5;241;43m*\u001b[39;49m\u001b[43margs\u001b[49m\u001b[43m,\u001b[49m\u001b[43m \u001b[49m\u001b[38;5;241;43m*\u001b[39;49m\u001b[38;5;241;43m*\u001b[39;49m\u001b[43mkwargs\u001b[49m\u001b[43m)\u001b[49m\n\u001b[1;32m    141\u001b[0m     obj\u001b[38;5;241m.\u001b[39m_optimizer_step_code()\n\u001b[1;32m    142\u001b[0m     \u001b[38;5;28;01mreturn\u001b[39;00m out\n",
      "File \u001b[0;32m/uscms_data/d3/nswood/mambaforge/envs/myenv/lib/python3.10/site-packages/torch/optim/optimizer.py:23\u001b[0m, in \u001b[0;36m_use_grad_for_differentiable.<locals>._use_grad\u001b[0;34m(self, *args, **kwargs)\u001b[0m\n\u001b[1;32m     21\u001b[0m \u001b[38;5;28;01mtry\u001b[39;00m:\n\u001b[1;32m     22\u001b[0m     torch\u001b[38;5;241m.\u001b[39mset_grad_enabled(\u001b[38;5;28mself\u001b[39m\u001b[38;5;241m.\u001b[39mdefaults[\u001b[38;5;124m'\u001b[39m\u001b[38;5;124mdifferentiable\u001b[39m\u001b[38;5;124m'\u001b[39m])\n\u001b[0;32m---> 23\u001b[0m     ret \u001b[38;5;241m=\u001b[39m \u001b[43mfunc\u001b[49m\u001b[43m(\u001b[49m\u001b[38;5;28;43mself\u001b[39;49m\u001b[43m,\u001b[49m\u001b[43m \u001b[49m\u001b[38;5;241;43m*\u001b[39;49m\u001b[43margs\u001b[49m\u001b[43m,\u001b[49m\u001b[43m \u001b[49m\u001b[38;5;241;43m*\u001b[39;49m\u001b[38;5;241;43m*\u001b[39;49m\u001b[43mkwargs\u001b[49m\u001b[43m)\u001b[49m\n\u001b[1;32m     24\u001b[0m \u001b[38;5;28;01mfinally\u001b[39;00m:\n\u001b[1;32m     25\u001b[0m     torch\u001b[38;5;241m.\u001b[39mset_grad_enabled(prev_grad)\n",
      "File \u001b[0;32m/uscms_data/d3/nswood/mambaforge/envs/myenv/lib/python3.10/site-packages/torch/optim/adam.py:234\u001b[0m, in \u001b[0;36mAdam.step\u001b[0;34m(self, closure, grad_scaler)\u001b[0m\n\u001b[1;32m    231\u001b[0m                 \u001b[38;5;28;01mraise\u001b[39;00m \u001b[38;5;167;01mRuntimeError\u001b[39;00m(\u001b[38;5;124m'\u001b[39m\u001b[38;5;124m`requires_grad` is not supported for `step` in differentiable mode\u001b[39m\u001b[38;5;124m'\u001b[39m)\n\u001b[1;32m    232\u001b[0m             state_steps\u001b[38;5;241m.\u001b[39mappend(state[\u001b[38;5;124m'\u001b[39m\u001b[38;5;124mstep\u001b[39m\u001b[38;5;124m'\u001b[39m])\n\u001b[0;32m--> 234\u001b[0m     \u001b[43madam\u001b[49m\u001b[43m(\u001b[49m\u001b[43mparams_with_grad\u001b[49m\u001b[43m,\u001b[49m\n\u001b[1;32m    235\u001b[0m \u001b[43m         \u001b[49m\u001b[43mgrads\u001b[49m\u001b[43m,\u001b[49m\n\u001b[1;32m    236\u001b[0m \u001b[43m         \u001b[49m\u001b[43mexp_avgs\u001b[49m\u001b[43m,\u001b[49m\n\u001b[1;32m    237\u001b[0m \u001b[43m         \u001b[49m\u001b[43mexp_avg_sqs\u001b[49m\u001b[43m,\u001b[49m\n\u001b[1;32m    238\u001b[0m \u001b[43m         \u001b[49m\u001b[43mmax_exp_avg_sqs\u001b[49m\u001b[43m,\u001b[49m\n\u001b[1;32m    239\u001b[0m \u001b[43m         \u001b[49m\u001b[43mstate_steps\u001b[49m\u001b[43m,\u001b[49m\n\u001b[1;32m    240\u001b[0m \u001b[43m         \u001b[49m\u001b[43mamsgrad\u001b[49m\u001b[38;5;241;43m=\u001b[39;49m\u001b[43mgroup\u001b[49m\u001b[43m[\u001b[49m\u001b[38;5;124;43m'\u001b[39;49m\u001b[38;5;124;43mamsgrad\u001b[39;49m\u001b[38;5;124;43m'\u001b[39;49m\u001b[43m]\u001b[49m\u001b[43m,\u001b[49m\n\u001b[1;32m    241\u001b[0m \u001b[43m         \u001b[49m\u001b[43mbeta1\u001b[49m\u001b[38;5;241;43m=\u001b[39;49m\u001b[43mbeta1\u001b[49m\u001b[43m,\u001b[49m\n\u001b[1;32m    242\u001b[0m \u001b[43m         \u001b[49m\u001b[43mbeta2\u001b[49m\u001b[38;5;241;43m=\u001b[39;49m\u001b[43mbeta2\u001b[49m\u001b[43m,\u001b[49m\n\u001b[1;32m    243\u001b[0m \u001b[43m         \u001b[49m\u001b[43mlr\u001b[49m\u001b[38;5;241;43m=\u001b[39;49m\u001b[43mgroup\u001b[49m\u001b[43m[\u001b[49m\u001b[38;5;124;43m'\u001b[39;49m\u001b[38;5;124;43mlr\u001b[39;49m\u001b[38;5;124;43m'\u001b[39;49m\u001b[43m]\u001b[49m\u001b[43m,\u001b[49m\n\u001b[1;32m    244\u001b[0m \u001b[43m         \u001b[49m\u001b[43mweight_decay\u001b[49m\u001b[38;5;241;43m=\u001b[39;49m\u001b[43mgroup\u001b[49m\u001b[43m[\u001b[49m\u001b[38;5;124;43m'\u001b[39;49m\u001b[38;5;124;43mweight_decay\u001b[39;49m\u001b[38;5;124;43m'\u001b[39;49m\u001b[43m]\u001b[49m\u001b[43m,\u001b[49m\n\u001b[1;32m    245\u001b[0m \u001b[43m         \u001b[49m\u001b[43meps\u001b[49m\u001b[38;5;241;43m=\u001b[39;49m\u001b[43mgroup\u001b[49m\u001b[43m[\u001b[49m\u001b[38;5;124;43m'\u001b[39;49m\u001b[38;5;124;43meps\u001b[39;49m\u001b[38;5;124;43m'\u001b[39;49m\u001b[43m]\u001b[49m\u001b[43m,\u001b[49m\n\u001b[1;32m    246\u001b[0m \u001b[43m         \u001b[49m\u001b[43mmaximize\u001b[49m\u001b[38;5;241;43m=\u001b[39;49m\u001b[43mgroup\u001b[49m\u001b[43m[\u001b[49m\u001b[38;5;124;43m'\u001b[39;49m\u001b[38;5;124;43mmaximize\u001b[39;49m\u001b[38;5;124;43m'\u001b[39;49m\u001b[43m]\u001b[49m\u001b[43m,\u001b[49m\n\u001b[1;32m    247\u001b[0m \u001b[43m         \u001b[49m\u001b[43mforeach\u001b[49m\u001b[38;5;241;43m=\u001b[39;49m\u001b[43mgroup\u001b[49m\u001b[43m[\u001b[49m\u001b[38;5;124;43m'\u001b[39;49m\u001b[38;5;124;43mforeach\u001b[39;49m\u001b[38;5;124;43m'\u001b[39;49m\u001b[43m]\u001b[49m\u001b[43m,\u001b[49m\n\u001b[1;32m    248\u001b[0m \u001b[43m         \u001b[49m\u001b[43mcapturable\u001b[49m\u001b[38;5;241;43m=\u001b[39;49m\u001b[43mgroup\u001b[49m\u001b[43m[\u001b[49m\u001b[38;5;124;43m'\u001b[39;49m\u001b[38;5;124;43mcapturable\u001b[39;49m\u001b[38;5;124;43m'\u001b[39;49m\u001b[43m]\u001b[49m\u001b[43m,\u001b[49m\n\u001b[1;32m    249\u001b[0m \u001b[43m         \u001b[49m\u001b[43mdifferentiable\u001b[49m\u001b[38;5;241;43m=\u001b[39;49m\u001b[43mgroup\u001b[49m\u001b[43m[\u001b[49m\u001b[38;5;124;43m'\u001b[39;49m\u001b[38;5;124;43mdifferentiable\u001b[39;49m\u001b[38;5;124;43m'\u001b[39;49m\u001b[43m]\u001b[49m\u001b[43m,\u001b[49m\n\u001b[1;32m    250\u001b[0m \u001b[43m         \u001b[49m\u001b[43mfused\u001b[49m\u001b[38;5;241;43m=\u001b[39;49m\u001b[43mgroup\u001b[49m\u001b[43m[\u001b[49m\u001b[38;5;124;43m'\u001b[39;49m\u001b[38;5;124;43mfused\u001b[39;49m\u001b[38;5;124;43m'\u001b[39;49m\u001b[43m]\u001b[49m\u001b[43m,\u001b[49m\n\u001b[1;32m    251\u001b[0m \u001b[43m         \u001b[49m\u001b[43mgrad_scale\u001b[49m\u001b[38;5;241;43m=\u001b[39;49m\u001b[43mgrad_scale\u001b[49m\u001b[43m,\u001b[49m\n\u001b[1;32m    252\u001b[0m \u001b[43m         \u001b[49m\u001b[43mfound_inf\u001b[49m\u001b[38;5;241;43m=\u001b[39;49m\u001b[43mfound_inf\u001b[49m\u001b[43m)\u001b[49m\n\u001b[1;32m    254\u001b[0m \u001b[38;5;28;01mreturn\u001b[39;00m loss\n",
      "File \u001b[0;32m/uscms_data/d3/nswood/mambaforge/envs/myenv/lib/python3.10/site-packages/torch/optim/adam.py:300\u001b[0m, in \u001b[0;36madam\u001b[0;34m(params, grads, exp_avgs, exp_avg_sqs, max_exp_avg_sqs, state_steps, foreach, capturable, differentiable, fused, grad_scale, found_inf, amsgrad, beta1, beta2, lr, weight_decay, eps, maximize)\u001b[0m\n\u001b[1;32m    297\u001b[0m \u001b[38;5;28;01melse\u001b[39;00m:\n\u001b[1;32m    298\u001b[0m     func \u001b[38;5;241m=\u001b[39m _single_tensor_adam\n\u001b[0;32m--> 300\u001b[0m \u001b[43mfunc\u001b[49m\u001b[43m(\u001b[49m\u001b[43mparams\u001b[49m\u001b[43m,\u001b[49m\n\u001b[1;32m    301\u001b[0m \u001b[43m     \u001b[49m\u001b[43mgrads\u001b[49m\u001b[43m,\u001b[49m\n\u001b[1;32m    302\u001b[0m \u001b[43m     \u001b[49m\u001b[43mexp_avgs\u001b[49m\u001b[43m,\u001b[49m\n\u001b[1;32m    303\u001b[0m \u001b[43m     \u001b[49m\u001b[43mexp_avg_sqs\u001b[49m\u001b[43m,\u001b[49m\n\u001b[1;32m    304\u001b[0m \u001b[43m     \u001b[49m\u001b[43mmax_exp_avg_sqs\u001b[49m\u001b[43m,\u001b[49m\n\u001b[1;32m    305\u001b[0m \u001b[43m     \u001b[49m\u001b[43mstate_steps\u001b[49m\u001b[43m,\u001b[49m\n\u001b[1;32m    306\u001b[0m \u001b[43m     \u001b[49m\u001b[43mamsgrad\u001b[49m\u001b[38;5;241;43m=\u001b[39;49m\u001b[43mamsgrad\u001b[49m\u001b[43m,\u001b[49m\n\u001b[1;32m    307\u001b[0m \u001b[43m     \u001b[49m\u001b[43mbeta1\u001b[49m\u001b[38;5;241;43m=\u001b[39;49m\u001b[43mbeta1\u001b[49m\u001b[43m,\u001b[49m\n\u001b[1;32m    308\u001b[0m \u001b[43m     \u001b[49m\u001b[43mbeta2\u001b[49m\u001b[38;5;241;43m=\u001b[39;49m\u001b[43mbeta2\u001b[49m\u001b[43m,\u001b[49m\n\u001b[1;32m    309\u001b[0m \u001b[43m     \u001b[49m\u001b[43mlr\u001b[49m\u001b[38;5;241;43m=\u001b[39;49m\u001b[43mlr\u001b[49m\u001b[43m,\u001b[49m\n\u001b[1;32m    310\u001b[0m \u001b[43m     \u001b[49m\u001b[43mweight_decay\u001b[49m\u001b[38;5;241;43m=\u001b[39;49m\u001b[43mweight_decay\u001b[49m\u001b[43m,\u001b[49m\n\u001b[1;32m    311\u001b[0m \u001b[43m     \u001b[49m\u001b[43meps\u001b[49m\u001b[38;5;241;43m=\u001b[39;49m\u001b[43meps\u001b[49m\u001b[43m,\u001b[49m\n\u001b[1;32m    312\u001b[0m \u001b[43m     \u001b[49m\u001b[43mmaximize\u001b[49m\u001b[38;5;241;43m=\u001b[39;49m\u001b[43mmaximize\u001b[49m\u001b[43m,\u001b[49m\n\u001b[1;32m    313\u001b[0m \u001b[43m     \u001b[49m\u001b[43mcapturable\u001b[49m\u001b[38;5;241;43m=\u001b[39;49m\u001b[43mcapturable\u001b[49m\u001b[43m,\u001b[49m\n\u001b[1;32m    314\u001b[0m \u001b[43m     \u001b[49m\u001b[43mdifferentiable\u001b[49m\u001b[38;5;241;43m=\u001b[39;49m\u001b[43mdifferentiable\u001b[49m\u001b[43m,\u001b[49m\n\u001b[1;32m    315\u001b[0m \u001b[43m     \u001b[49m\u001b[43mgrad_scale\u001b[49m\u001b[38;5;241;43m=\u001b[39;49m\u001b[43mgrad_scale\u001b[49m\u001b[43m,\u001b[49m\n\u001b[1;32m    316\u001b[0m \u001b[43m     \u001b[49m\u001b[43mfound_inf\u001b[49m\u001b[38;5;241;43m=\u001b[39;49m\u001b[43mfound_inf\u001b[49m\u001b[43m)\u001b[49m\n",
      "File \u001b[0;32m/uscms_data/d3/nswood/mambaforge/envs/myenv/lib/python3.10/site-packages/torch/optim/adam.py:354\u001b[0m, in \u001b[0;36m_single_tensor_adam\u001b[0;34m(params, grads, exp_avgs, exp_avg_sqs, max_exp_avg_sqs, state_steps, grad_scale, found_inf, amsgrad, beta1, beta2, lr, weight_decay, eps, maximize, capturable, differentiable)\u001b[0m\n\u001b[1;32m    351\u001b[0m step_t \u001b[38;5;241m+\u001b[39m\u001b[38;5;241m=\u001b[39m \u001b[38;5;241m1\u001b[39m\n\u001b[1;32m    353\u001b[0m \u001b[38;5;28;01mif\u001b[39;00m weight_decay \u001b[38;5;241m!=\u001b[39m \u001b[38;5;241m0\u001b[39m:\n\u001b[0;32m--> 354\u001b[0m     grad \u001b[38;5;241m=\u001b[39m \u001b[43mgrad\u001b[49m\u001b[38;5;241;43m.\u001b[39;49m\u001b[43madd\u001b[49m\u001b[43m(\u001b[49m\u001b[43mparam\u001b[49m\u001b[43m,\u001b[49m\u001b[43m \u001b[49m\u001b[43malpha\u001b[49m\u001b[38;5;241;43m=\u001b[39;49m\u001b[43mweight_decay\u001b[49m\u001b[43m)\u001b[49m\n\u001b[1;32m    356\u001b[0m \u001b[38;5;28;01mif\u001b[39;00m torch\u001b[38;5;241m.\u001b[39mis_complex(param):\n\u001b[1;32m    357\u001b[0m     grad \u001b[38;5;241m=\u001b[39m torch\u001b[38;5;241m.\u001b[39mview_as_real(grad)\n",
      "\u001b[0;31mKeyboardInterrupt\u001b[0m: "
     ]
    }
   ],
   "source": [
    "# fine-tune autoencoder\n",
    "#batch 500\n",
    "\n",
    "model_1 = Naive_DAE([48,450,250,100,16])\n",
    "# model_1 = torch.load('models/dt_1_greater_0_250_100_dif')\n",
    "test = dt_1[-size_test:,0:48]\n",
    "\n",
    "optimizer = optim.Adam(model_1.parameters(), lr,weight_decay=5e-2)\n",
    "scheduler = torch.optim.lr_scheduler.ReduceLROnPlateau(optimizer, 'min',factor = 0.5)\n",
    "test = dt_1[-size_test:,0:48]\n",
    "\n",
    "all_test_losses = []\n",
    "all_train_losses = []\n",
    "# train\n",
    "running_loss = float(\"inf\")\n",
    "for epoch in range(num_epochs):\n",
    "    \n",
    "    losses = []\n",
    "    \n",
    "    for i, data_list in enumerate(train_d1_flat):\n",
    "        model_1.train()\n",
    "        data = data_list[0]\n",
    "        v_pred = model_1(data)\n",
    "        \n",
    "        batch_loss = loss(data[:,0:48], v_pred,epoch,std_dt_1,mean_dt_1) # difference between actual and reconstructed   \n",
    "        \n",
    "        \n",
    "        all_train_losses.append(batch_loss.item())\n",
    "        losses.append(batch_loss.item())\n",
    "        optimizer.zero_grad()\n",
    "        batch_loss.backward()\n",
    "        optimizer.step()\n",
    "    scheduler.step(batch_loss)\n",
    "    data_test = test\n",
    "    model_1.eval()\n",
    "    test_pred = model_1(data_test)\n",
    "    batch_test = loss(data_test[:,0:48], test_pred,epoch,std_dt_1,mean_dt_1)\n",
    "    running_loss = np.mean(losses)\n",
    "    running_test_loss = batch_test.item()\n",
    "    print('Epoch {}, lr {}'.format(\n",
    "        epoch, optimizer.param_groups[0]['lr']))\n",
    "    \n",
    "    print(f\"Epoch {epoch}: Train {running_loss}, Test {running_test_loss}\")\n",
    "model_1.eval()\n",
    "AE_Stats.gen_all_stats(model_1(dt_1[-size_test:,0:48]),dt_1[-size_test:,0:48],dt_1[-size_test:])\n"
   ]
  },
  {
   "cell_type": "code",
   "execution_count": 106,
   "id": "2fdf7349",
   "metadata": {},
   "outputs": [
    {
     "data": {
      "text/plain": [
       "tensor(6.2242, grad_fn=<LogBackward0>)"
      ]
     },
     "execution_count": 106,
     "metadata": {},
     "output_type": "execute_result"
    }
   ],
   "source": [
    "torch.log(calcQ_Error(dt_1[-size_test:,0:48],model_1(dt_1[-size_test:,0:48]),mean_dt_1,std_dt_1))"
   ]
  },
  {
   "cell_type": "code",
   "execution_count": 107,
   "id": "d29e5f8c",
   "metadata": {},
   "outputs": [
    {
     "data": {
      "text/plain": [
       "10.517063034398602"
      ]
     },
     "execution_count": 107,
     "metadata": {},
     "output_type": "execute_result"
    }
   ],
   "source": [
    "np.e**(6.2242)/48"
   ]
  },
  {
   "cell_type": "code",
   "execution_count": 75,
   "id": "8441158e",
   "metadata": {},
   "outputs": [
    {
     "data": {
      "text/plain": [
       "tensor([123.7216,  14.0140,  11.9106,  11.3139,  81.7022,   8.8561,  20.0075,\n",
       "         20.1602,  68.0171, 155.3112,  69.7322,  31.8469,  40.9257,  15.8994,\n",
       "         21.8803,  23.7548,   9.3117,   5.7087,  12.6005,  10.2982,  20.7922,\n",
       "         18.0799,   5.2099,  14.3794,  18.4371,  19.6875,  14.5676,  11.3644,\n",
       "         10.2645,   3.3027,  14.4512,  22.3214,  59.1889,  36.3542,  41.9654,\n",
       "         19.4307,  49.3281,  33.8028,  17.5427,  26.0169,  13.7674,  16.3931,\n",
       "         19.7148,   4.3087,  23.1923,  15.4096,  38.2312,  10.7151],\n",
       "       grad_fn=<AddBackward0>)"
      ]
     },
     "execution_count": 75,
     "metadata": {},
     "output_type": "execute_result"
    }
   ],
   "source": [
    "model_1(dt_1[-size_test:,0:48])[0]*std_dt_1+mean_dt_1"
   ]
  },
  {
   "cell_type": "code",
   "execution_count": 108,
   "id": "1db9c847",
   "metadata": {},
   "outputs": [
    {
     "data": {
      "text/plain": [
       "tensor([  3.7216, -12.9860,   0.9106,   1.3139,  51.7022, -20.1439,  -3.9925,\n",
       "         20.1602, -22.9829, -29.6888,   4.7322,   6.8469,  16.9257,   3.8994,\n",
       "        -23.1197,  -5.2452,   0.3117,   5.7087,   2.6005,   7.2982,  20.7922,\n",
       "          9.0799,   5.2099,   5.3794,  14.4371, -95.3125,  14.5676, -13.6356,\n",
       "          3.2645,   3.3027,  14.4512,  10.3214, -21.8111,  18.3542,   2.9654,\n",
       "          8.4307,   0.3281, -22.1972,  10.5427,  -2.9831,  10.7674,  14.3931,\n",
       "          3.7148,  -1.6913,  23.1923,   8.4096, -41.7688,   1.7151],\n",
       "       grad_fn=<SubBackward0>)"
      ]
     },
     "execution_count": 108,
     "metadata": {},
     "output_type": "execute_result"
    }
   ],
   "source": [
    "(model_1(dt_1[-size_test:,0:48])[0]*std_dt_1)-dt_1[-size_test:,0:48][0]*std_dt_1"
   ]
  },
  {
   "cell_type": "code",
   "execution_count": 63,
   "id": "313477a4",
   "metadata": {},
   "outputs": [
    {
     "data": {
      "text/plain": [
       "tensor([120.0000,  27.0000,  11.0000,  10.0000,  30.0000,  29.0000,  24.0000,\n",
       "          0.0000,  91.0000, 185.0000,  65.0000,  25.0000,  24.0000,  12.0000,\n",
       "         45.0000,  29.0000,   9.0000,   0.0000,  10.0000,   3.0000,   0.0000,\n",
       "          9.0000,   0.0000,   9.0000,   4.0000, 115.0000,   0.0000,  25.0000,\n",
       "          7.0000,   0.0000,   0.0000,  12.0000,  81.0000,  18.0000,  39.0000,\n",
       "         11.0000,  49.0000,  56.0000,   7.0000,  29.0000,   3.0000,   2.0000,\n",
       "         16.0000,   6.0000,   0.0000,   7.0000,  80.0000,   9.0000])"
      ]
     },
     "execution_count": 63,
     "metadata": {},
     "output_type": "execute_result"
    }
   ],
   "source": [
    "dt_1[-size_test:,0:48][0]*std_dt_1+mean_dt_1"
   ]
  },
  {
   "cell_type": "code",
   "execution_count": 54,
   "id": "621a56e1",
   "metadata": {},
   "outputs": [],
   "source": [
    "# torch.save(model_1,'models/dt_1_greater_0_250_100_dif')"
   ]
  },
  {
   "cell_type": "code",
   "execution_count": 42,
   "id": "809a91f7",
   "metadata": {},
   "outputs": [
    {
     "data": {
      "image/png": "[encoded data removed]",
      "text/plain": [
       "<Figure size 640x480 with 1 Axes>"
      ]
     },
     "metadata": {},
     "output_type": "display_data"
    }
   ],
   "source": [
    "plt.title('Log Transverse charge abs error')\n",
    "plt.hist(np.log10((torch.sum(torch.abs(model_1(dt_1[-size_test:,0:48])-dt_1[-size_test:,0:48]),dim=1)*std_dt_1+mean_dt_1).detach().numpy()))\n",
    "plt.show()"
   ]
  },
  {
   "cell_type": "code",
   "execution_count": 41,
   "id": "ef2a3595",
   "metadata": {},
   "outputs": [
    {
     "data": {
      "image/png": "[encoded data removed]",
      "text/plain": [
       "<Figure size 640x480 with 1 Axes>"
      ]
     },
     "metadata": {},
     "output_type": "display_data"
    }
   ],
   "source": [
    "plt.title('dt_1 total CalcQ error')\n",
    "plt.hist((torch.sum(dt_1[-size_test:,0:48]*std_dt_1+mean_dt_1,dim=1)-torch.sum(model_1(dt_1[-size_test:,0:48])*std_dt_1+mean_dt_1,dim=1)).detach().numpy(),log = True)\n",
    "plt.show()"
   ]
  },
  {
   "cell_type": "code",
   "execution_count": 23,
   "id": "c3c5ea76",
   "metadata": {},
   "outputs": [
    {
     "name": "stdout",
     "output_type": "stream",
     "text": [
      "New Loss total: 32.35935974121094\n",
      "MSE: 3.8797781467437744\n",
      "Average of total wafer calcq error / std: 9.751097679138184\n",
      "Average Error in transverse charge: 27.600881576538086\n"
     ]
    }
   ],
   "source": [
    "print(f'New Loss total: {new_loss(model_1(dt_1[-size_test:,0:48]),dt_1[-size_test:,0:48],epoch =10000)}')\n",
    "print(f'MSE: {AE_MSE(model_1(dt_1[-size_test:,0:48]),dt_1[-size_test:,0:48]).item()}')\n",
    "print(f'Average of total wafer calcq error / std: {std_error(model_1(dt_1[-size_test:,0:48]),dt_1[-size_test:,0:48])}')\n",
    "print(f'Average Error in transverse charge: {calcQ_Error(model_1(dt_1[-size_test:,0:48]),dt_1[-size_test:,0:48], mean_dt_1,std_dt_1)}')"
   ]
  },
  {
   "cell_type": "code",
   "execution_count": null,
   "id": "389c552d",
   "metadata": {
    "scrolled": true
   },
   "outputs": [],
   "source": [
    "# fine-tune autoencoder\n",
    "#batch 500\n",
    "\n",
    "\n",
    "model_2 = Naive_DAE([48,450,250,100,16])\n",
    "# model_2 = torch.load('models/dt_2_greater_0_250_100_dif')\n",
    "test = dt_2[-size_test:,0:48]\n",
    "\n",
    "optimizer = optim.Adam(model_2.parameters(), lr,weight_decay=5e-2)\n",
    "scheduler = torch.optim.lr_scheduler.ReduceLROnPlateau(optimizer, 'min',factor = 0.5)\n",
    "\n",
    "all_test_losses = []\n",
    "all_train_losses = []\n",
    "# train\n",
    "running_loss = float(\"inf\")\n",
    "for epoch in range(num_epochs):\n",
    "    \n",
    "    losses = []\n",
    "    \n",
    "    for i, data_list in enumerate(train_d2_flat):\n",
    "        model_2.train()\n",
    "        data = data_list[0]\n",
    "        v_pred = model_2(data)\n",
    "        \n",
    "        batch_loss = loss(data, v_pred,epoch,std_dt_2,mean_dt_2) # difference between actual and reconstructed   \n",
    "        \n",
    "        \n",
    "        all_train_losses.append(batch_loss.item())\n",
    "        losses.append(batch_loss.item())\n",
    "        optimizer.zero_grad()\n",
    "        batch_loss.backward()\n",
    "        optimizer.step()\n",
    "    scheduler.step(batch_loss)\n",
    "    data_test = dt_2[-size_test:,0:48]\n",
    "    model_2.eval()\n",
    "    test_pred = model_2(data_test)\n",
    "    batch_test = loss(data_test, test_pred,epoch,std_dt_2,mean_dt_2)\n",
    "    running_loss = np.mean(losses)\n",
    "    running_test_loss = batch_test.item()\n",
    "    print('Epoch {}, lr {}'.format(\n",
    "        epoch, optimizer.param_groups[0]['lr']))\n",
    "    \n",
    "    print(f\"Epoch {epoch}: Train {running_loss}, Test {running_test_loss}\")\n",
    "model_2.eval()\n",
    "AE_Stats.gen_all_stats(model_2(dt_2[-size_test:,0:48]),dt_2[-size_test:,0:48],dt_2[-size_test:])\n"
   ]
  },
  {
   "cell_type": "code",
   "execution_count": 56,
   "id": "045207b6",
   "metadata": {},
   "outputs": [],
   "source": [
    "# torch.save(model_2,'models/dt_2_greater_0_250_100_dif')"
   ]
  },
  {
   "cell_type": "code",
   "execution_count": 40,
   "id": "b89a9ded",
   "metadata": {
    "scrolled": false
   },
   "outputs": [
    {
     "data": {
      "image/png": "[encoded data removed]",
      "text/plain": [
       "<Figure size 640x480 with 1 Axes>"
      ]
     },
     "metadata": {},
     "output_type": "display_data"
    }
   ],
   "source": [
    "plt.title('Log Transverse charge abs error')\n",
    "plt.hist(np.log10((torch.sum(torch.abs(model_2(dt_2[-size_test:,0:48])-dt_2[-size_test:,0:48]),dim=1)*std_dt_2+mean_dt_2).detach().numpy()))\n",
    "plt.show()"
   ]
  },
  {
   "cell_type": "code",
   "execution_count": 26,
   "id": "4937b6c3",
   "metadata": {},
   "outputs": [
    {
     "data": {
      "image/png": "[encoded data removed]",
      "text/plain": [
       "<Figure size 640x480 with 1 Axes>"
      ]
     },
     "metadata": {},
     "output_type": "display_data"
    }
   ],
   "source": [
    "plt.title('dt_2 total CalcQ error')\n",
    "plt.hist((torch.sum(dt_2[-size_test:,0:48]*std_dt_2+mean_dt_2,dim=1)-torch.sum(model_1(dt_2[-size_test:,0:48])*std_dt_2+mean_dt_2,dim=1)).detach().numpy(),log = True)\n",
    "plt.show()"
   ]
  },
  {
   "cell_type": "code",
   "execution_count": null,
   "id": "6a794845",
   "metadata": {
    "scrolled": true
   },
   "outputs": [],
   "source": [
    "# fine-tune autoencoder\n",
    "#batch 500\n",
    "\n",
    "\n",
    "model_3 = Naive_DAE([48,450,250,100,16])\n",
    "# model_3 = torch.load('models/dt_3_greater_0_250_100')\n",
    "test = dt_3[-size_test:,0:48]\n",
    "optimizer = optim.Adam(model_3.parameters(), lr,weight_decay=5e-2)\n",
    "scheduler = torch.optim.lr_scheduler.ReduceLROnPlateau(optimizer, 'min',factor = 0.5)\n",
    "\n",
    "all_test_losses = []\n",
    "all_train_losses = []\n",
    "# train\n",
    "running_loss = float(\"inf\")\n",
    "for epoch in range(num_epochs):\n",
    "    \n",
    "    losses = []\n",
    "    \n",
    "    for i, data_list in enumerate(train_d3_flat):\n",
    "        model_3.train()\n",
    "        data = data_list[0]\n",
    "        v_pred = model_3(data)\n",
    "        \n",
    "        batch_loss = loss(data, v_pred,epoch,std_dt_3,mean_dt_3) # difference between actual and reconstructed   \n",
    "        \n",
    "        \n",
    "        all_train_losses.append(batch_loss.item())\n",
    "        losses.append(batch_loss.item())\n",
    "        optimizer.zero_grad()\n",
    "        batch_loss.backward()\n",
    "        optimizer.step()\n",
    "    scheduler.step(batch_loss)\n",
    "    data_test = dt_3[-size_test:,0:48]\n",
    "    model_3.eval()\n",
    "    test_pred = model_3(data_test)\n",
    "    batch_test = loss(data_test, test_pred,epoch,std_dt_3,mean_dt_3)\n",
    "    running_loss = np.mean(losses)\n",
    "    running_test_loss = batch_test.item()\n",
    "    print('Epoch {}, lr {}'.format(\n",
    "        epoch, optimizer.param_groups[0]['lr']))\n",
    "    \n",
    "    print(f\"Epoch {epoch}: Train {running_loss}, Test {running_test_loss}\")\n",
    "model_3.eval()\n",
    "AE_Stats.gen_all_stats(model_3(dt_3[-size_test:,0:48]),dt_3[-size_test:,0:48],dt_3[-size_test:])\n"
   ]
  },
  {
   "cell_type": "code",
   "execution_count": 57,
   "id": "b2c6505f",
   "metadata": {},
   "outputs": [],
   "source": [
    "# torch.save(model_3,'models/dt_3_greater_0_250_100_dif')"
   ]
  },
  {
   "cell_type": "code",
   "execution_count": 39,
   "id": "be29a7b1",
   "metadata": {},
   "outputs": [
    {
     "data": {
      "image/png": "[encoded data removed]",
      "text/plain": [
       "<Figure size 640x480 with 1 Axes>"
      ]
     },
     "metadata": {},
     "output_type": "display_data"
    }
   ],
   "source": [
    "plt.title('Log Transverse charge abs error')\n",
    "plt.hist(np.log10((torch.sum(torch.abs(model_3(dt_3[-size_test:,0:48])-dt_3[-size_test:,0:48]),dim=1)*std_dt_3+mean_dt_3).detach().numpy()))\n",
    "plt.show()"
   ]
  },
  {
   "cell_type": "code",
   "execution_count": 30,
   "id": "6ef709b7",
   "metadata": {},
   "outputs": [
    {
     "data": {
      "image/png": "[encoded data removed]",
      "text/plain": [
       "<Figure size 640x480 with 1 Axes>"
      ]
     },
     "metadata": {},
     "output_type": "display_data"
    }
   ],
   "source": [
    "plt.title('dt_3 total CalcQ error')\n",
    "plt.hist((torch.sum(dt_3[-size_test:,0:48]*std_dt_3+mean_dt_3,dim=1)-torch.sum(model_1(dt_3[-size_test:,0:48])*std_dt_3+mean_dt_3,dim=1)).detach().numpy(),log = True)\n",
    "plt.show()"
   ]
  },
  {
   "cell_type": "code",
   "execution_count": null,
   "id": "fa045063",
   "metadata": {},
   "outputs": [],
   "source": []
  },
  {
   "cell_type": "code",
   "execution_count": null,
   "id": "d83b5906",
   "metadata": {},
   "outputs": [],
   "source": []
  }
 ],
 "metadata": {
  "kernelspec": {
   "display_name": "Python 3 (ipykernel)",
   "language": "python",
   "name": "python3"
  },
  "language_info": {
   "codemirror_mode": {
    "name": "ipython",
    "version": 3
   },
   "file_extension": ".py",
   "mimetype": "text/x-python",
   "name": "python",
   "nbconvert_exporter": "python",
   "pygments_lexer": "ipython3",
   "version": "3.10.6"
  }
 },
 "nbformat": 4,
 "nbformat_minor": 5
}
