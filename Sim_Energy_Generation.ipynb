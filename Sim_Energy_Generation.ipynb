{
 "cells": [
  {
   "cell_type": "code",
   "execution_count": 2,
   "id": "ff17c73f",
   "metadata": {},
   "outputs": [],
   "source": [
    "import os\n",
    "import sys\n",
    "import pandas as pd\n",
    "import torch.nn as nn\n",
    "import torch.optim as optim\n",
    "import numpy as np\n",
    "import torch\n",
    "import matplotlib.pyplot as plt\n",
    "from Naive_DAE import Naive_DAE,Dropout_DAE\n",
    "\n",
    "from load_data_fn import load_data,load_data_no_filter\n",
    "\n",
    "from torch.autograd import Variable\n",
    "from torch.utils.data import Dataset, DataLoader, TensorDataset\n"
   ]
  },
  {
   "cell_type": "code",
   "execution_count": 43,
   "id": "1ad051d8",
   "metadata": {},
   "outputs": [
    {
     "name": "stdout",
     "output_type": "stream",
     "text": [
      "5Elinks_Layer9_test0.csv  more_testing_37.csv  more_testing_66.csv\r\n",
      "CALQ.csv\t\t  more_testing_38.csv  more_testing_67.csv\r\n",
      "combine.py\t\t  more_testing_39.csv  more_testing_68.csv\r\n",
      "more_testing_10.csv\t  more_testing_3.csv   more_testing_69.csv\r\n",
      "more_testing_11.csv\t  more_testing_40.csv  more_testing_6.csv\r\n",
      "more_testing_12.csv\t  more_testing_41.csv  more_testing_70.csv\r\n",
      "more_testing_13.csv\t  more_testing_42.csv  more_testing_71.csv\r\n",
      "more_testing_14.csv\t  more_testing_43.csv  more_testing_72.csv\r\n",
      "more_testing_15.csv\t  more_testing_44.csv  more_testing_73.csv\r\n",
      "more_testing_16.csv\t  more_testing_45.csv  more_testing_74.csv\r\n",
      "more_testing_17.csv\t  more_testing_46.csv  more_testing_75.csv\r\n",
      "more_testing_18.csv\t  more_testing_47.csv  more_testing_76.csv\r\n",
      "more_testing_19.csv\t  more_testing_48.csv  more_testing_77.csv\r\n",
      "more_testing_1.csv\t  more_testing_49.csv  more_testing_78.csv\r\n",
      "more_testing_20.csv\t  more_testing_4.csv   more_testing_79.csv\r\n",
      "more_testing_21.csv\t  more_testing_50.csv  more_testing_7.csv\r\n",
      "more_testing_22.csv\t  more_testing_51.csv  more_testing_80.csv\r\n",
      "more_testing_23.csv\t  more_testing_52.csv  more_testing_81.csv\r\n",
      "more_testing_24.csv\t  more_testing_53.csv  more_testing_82.csv\r\n",
      "more_testing_25.csv\t  more_testing_54.csv  more_testing_8.csv\r\n",
      "more_testing_26.csv\t  more_testing_55.csv  more_testing_9.csv\r\n",
      "more_testing_27.csv\t  more_testing_56.csv  more_testing.csv\r\n",
      "more_testing_28.csv\t  more_testing_57.csv  more_testing.csv_1\r\n",
      "more_testing_29.csv\t  more_testing_58.csv  more_testing.csv_2\r\n",
      "more_testing_2.csv\t  more_testing_59.csv  produce_data.py\r\n",
      "more_testing_30.csv\t  more_testing_5.csv   produce_ntuples.md\r\n",
      "more_testing_31.csv\t  more_testing_60.csv  produceTrainingData.py\r\n",
      "more_testing_32.csv\t  more_testing_61.csv  README.md\r\n",
      "more_testing_33.csv\t  more_testing_62.csv  tcRemap.csv\r\n",
      "more_testing_34.csv\t  more_testing_63.csv  testmerge.csv\r\n",
      "more_testing_35.csv\t  more_testing_64.csv  WaferEtaPhiMap.csv\r\n",
      "more_testing_36.csv\t  more_testing_65.csv\r\n"
     ]
    }
   ],
   "source": [
    "!ls Ecoder/TrainingData"
   ]
  },
  {
   "cell_type": "code",
   "execution_count": 7,
   "id": "f957a0ba",
   "metadata": {},
   "outputs": [],
   "source": [
    "arr = pd.read_csv('AE_Data/'+ str(1)+'.csv')"
   ]
  },
  {
   "cell_type": "code",
   "execution_count": 16,
   "id": "cf1b83cc",
   "metadata": {},
   "outputs": [
    {
     "data": {
      "text/plain": [
       "0          0.0\n",
       "1          0.0\n",
       "2          0.0\n",
       "3          0.0\n",
       "4          0.0\n",
       "          ... \n",
       "3452741    0.0\n",
       "3452742    0.0\n",
       "3452743    0.0\n",
       "3452744    0.0\n",
       "3452745    0.0\n",
       "Name: simenergy, Length: 3452746, dtype: float64"
      ]
     },
     "execution_count": 16,
     "metadata": {},
     "output_type": "execute_result"
    }
   ],
   "source": [
    "arr['simenergy']"
   ]
  },
  {
   "cell_type": "code",
   "execution_count": 18,
   "id": "3a3ef8ff",
   "metadata": {},
   "outputs": [],
   "source": [
    "non_zero = []\n",
    "for i in range(len(arr)):\n",
    "    if arr['simenergy'][i] != 0:\n",
    "        non_zero.append(i)"
   ]
  },
  {
   "cell_type": "code",
   "execution_count": 30,
   "id": "832760b8",
   "metadata": {},
   "outputs": [],
   "source": [
    "arr_non_zero = torch.tensor(arr.iloc[non_zero].to_numpy())"
   ]
  },
  {
   "cell_type": "code",
   "execution_count": 33,
   "id": "47fb8dd8",
   "metadata": {},
   "outputs": [
    {
     "data": {
      "text/plain": [
       "27800"
      ]
     },
     "execution_count": 33,
     "metadata": {},
     "output_type": "execute_result"
    }
   ],
   "source": [
    "len(arr_non_zero)"
   ]
  },
  {
   "cell_type": "code",
   "execution_count": 44,
   "id": "5007dff4",
   "metadata": {},
   "outputs": [
    {
     "data": {
      "text/plain": [
       "array([ 1.,  2.,  3.,  4.,  5.,  6.,  7.,  8.,  9., 10., 11., 12., 13.,\n",
       "       14., 15., 16., 17., 18., 19., 20., 21., 22., 23., 24., 25., 26.,\n",
       "       27., 28., 29., 30., 31., 32., 33., 34., 35., 36., 37., 38., 39.,\n",
       "       40., 41., 42., 43., 44., 45., 46., 47., 48., 49., 50., 51., 52.,\n",
       "       53., 54., 55., 56., 57., 58., 59., 60., 61., 62., 63., 64., 65.,\n",
       "       66., 67., 68., 69., 70., 71., 72., 73., 74., 75., 76., 77., 78.,\n",
       "       79., 80., 81., 82.])"
      ]
     },
     "execution_count": 44,
     "metadata": {},
     "output_type": "execute_result"
    }
   ],
   "source": [
    "np.linspace(1,82,82)"
   ]
  },
  {
   "cell_type": "code",
   "execution_count": 7,
   "id": "70cac355",
   "metadata": {},
   "outputs": [],
   "source": [
    "for j in np.linspace(1,82,82):\n",
    "    arr = pd.read_csv('Ecoder/TrainingData/more_testing_'+ str(int(j))+'.csv')\n",
    "    non_zero = []\n",
    "    for i in range(len(arr)):\n",
    "        if arr['simenergy'][i] > 1:\n",
    "            non_zero.append(i)\n",
    "    arr_non_zero = torch.tensor(arr.iloc[non_zero].to_numpy())\n",
    "    torch.save(arr_non_zero,f'TTBAR/ttbar_{int(j)}_greater_1_sim')"
   ]
  },
  {
   "cell_type": "code",
   "execution_count": 8,
   "id": "5cde1c1e",
   "metadata": {},
   "outputs": [],
   "source": [
    "for j in np.linspace(1,82,82):\n",
    "    arr = pd.read_csv('Ecoder/TrainingData/more_testing_'+ str(int(j))+'.csv')\n",
    "    non_zero = []\n",
    "    for i in range(len(arr)):\n",
    "        if arr['simenergy'][i] > 5:\n",
    "            non_zero.append(i)\n",
    "    arr_non_zero = torch.tensor(arr.iloc[non_zero].to_numpy())\n",
    "    torch.save(arr_non_zero,f'TTBAR/ttbar_{int(j)}_greater_5_sim')"
   ]
  },
  {
   "cell_type": "code",
   "execution_count": 9,
   "id": "82888e34",
   "metadata": {},
   "outputs": [],
   "source": [
    "for j in np.linspace(1,82,82):\n",
    "    arr = pd.read_csv('Ecoder/TrainingData/more_testing_'+ str(int(j))+'.csv')\n",
    "    non_zero = []\n",
    "    for i in range(len(arr)):\n",
    "        if arr['simenergy'][i] > 0:\n",
    "            non_zero.append(i)\n",
    "    arr_non_zero = torch.tensor(arr.iloc[non_zero].to_numpy())\n",
    "    torch.save(arr_non_zero,f'TTBAR/ttbar_{int(j)}_greater_0_sim')"
   ]
  }
 ],
 "metadata": {
  "kernelspec": {
   "display_name": "Python 3 (ipykernel)",
   "language": "python",
   "name": "python3"
  },
  "language_info": {
   "codemirror_mode": {
    "name": "ipython",
    "version": 3
   },
   "file_extension": ".py",
   "mimetype": "text/x-python",
   "name": "python",
   "nbconvert_exporter": "python",
   "pygments_lexer": "ipython3",
   "version": "3.10.6"
  }
 },
 "nbformat": 4,
 "nbformat_minor": 5
}
