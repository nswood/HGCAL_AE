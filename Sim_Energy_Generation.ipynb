{
 "cells": [
  {
   "cell_type": "code",
   "execution_count": 1,
   "id": "ff17c73f",
   "metadata": {},
   "outputs": [],
   "source": [
    "import os\n",
    "import sys\n",
    "import pandas as pd\n",
    "import torch.nn as nn\n",
    "import torch.optim as optim\n",
    "import numpy as np\n",
    "import torch\n",
    "import matplotlib.pyplot as plt\n",
    "from Naive_DAE import Naive_DAE,Dropout_DAE\n",
    "\n",
    "from load_data_fn import load_data,load_data_no_filter\n",
    "\n",
    "from torch.autograd import Variable\n",
    "from torch.utils.data import Dataset, DataLoader, TensorDataset\n"
   ]
  },
  {
   "cell_type": "code",
   "execution_count": 7,
   "id": "f957a0ba",
   "metadata": {},
   "outputs": [],
   "source": [
    "arr = pd.read_csv('AE_Data/'+ str(1)+'.csv')"
   ]
  },
  {
   "cell_type": "code",
   "execution_count": 16,
   "id": "cf1b83cc",
   "metadata": {},
   "outputs": [
    {
     "data": {
      "text/plain": [
       "0          0.0\n",
       "1          0.0\n",
       "2          0.0\n",
       "3          0.0\n",
       "4          0.0\n",
       "          ... \n",
       "3452741    0.0\n",
       "3452742    0.0\n",
       "3452743    0.0\n",
       "3452744    0.0\n",
       "3452745    0.0\n",
       "Name: simenergy, Length: 3452746, dtype: float64"
      ]
     },
     "execution_count": 16,
     "metadata": {},
     "output_type": "execute_result"
    }
   ],
   "source": [
    "arr['simenergy']"
   ]
  },
  {
   "cell_type": "code",
   "execution_count": 18,
   "id": "3a3ef8ff",
   "metadata": {},
   "outputs": [],
   "source": [
    "non_zero = []\n",
    "for i in range(len(arr)):\n",
    "    if arr['simenergy'][i] != 0:\n",
    "        non_zero.append(i)"
   ]
  },
  {
   "cell_type": "code",
   "execution_count": 30,
   "id": "832760b8",
   "metadata": {},
   "outputs": [],
   "source": [
    "arr_non_zero = torch.tensor(arr.iloc[non_zero].to_numpy())"
   ]
  },
  {
   "cell_type": "code",
   "execution_count": 33,
   "id": "47fb8dd8",
   "metadata": {},
   "outputs": [
    {
     "data": {
      "text/plain": [
       "27800"
      ]
     },
     "execution_count": 33,
     "metadata": {},
     "output_type": "execute_result"
    }
   ],
   "source": [
    "len(arr_non_zero)"
   ]
  },
  {
   "cell_type": "code",
   "execution_count": 44,
   "id": "5007dff4",
   "metadata": {
    "scrolled": true
   },
   "outputs": [
    {
     "data": {
      "text/plain": [
       "array([ 1.,  2.,  3.,  4.,  5.,  6.,  7.,  8.,  9., 10., 11., 12., 13.,\n",
       "       14., 15., 16., 17., 18., 19., 20., 21., 22., 23., 24., 25., 26.,\n",
       "       27., 28., 29., 30., 31., 32., 33., 34., 35., 36., 37., 38., 39.,\n",
       "       40., 41., 42., 43., 44., 45., 46., 47., 48., 49., 50., 51., 52.,\n",
       "       53., 54., 55., 56., 57., 58., 59., 60., 61., 62., 63., 64., 65.,\n",
       "       66., 67., 68., 69., 70., 71., 72., 73., 74., 75., 76., 77., 78.,\n",
       "       79., 80., 81., 82.])"
      ]
     },
     "execution_count": 44,
     "metadata": {},
     "output_type": "execute_result"
    }
   ],
   "source": [
    "np.linspace(1,82,82)"
   ]
  },
  {
   "cell_type": "code",
   "execution_count": 4,
   "id": "606c06a6",
   "metadata": {},
   "outputs": [
    {
     "data": {
      "text/plain": [
       "'/uscms_data/d3/nswood/Notebooks/AE_Dev'"
      ]
     },
     "execution_count": 4,
     "metadata": {},
     "output_type": "execute_result"
    }
   ],
   "source": [
    "%pwd"
   ]
  },
  {
   "cell_type": "code",
   "execution_count": null,
   "id": "d2320243",
   "metadata": {},
   "outputs": [],
   "source": [
    "ls"
   ]
  },
  {
   "cell_type": "code",
   "execution_count": 13,
   "id": "70cac355",
   "metadata": {},
   "outputs": [],
   "source": [
    "for j in np.linspace(1,450,450):\n",
    "    arr =torch.load(f'MIT_TTbar/ntuple_{int(j)}')\n",
    "    non_zero = []\n",
    "    for d in arr:\n",
    "        if d[-1].item() > 1:\n",
    "            non_zero.append(d)\n",
    "    arr_non_zero = torch.vstack(non_zero)\n",
    "    torch.save(arr_non_zero,f'MIT_TTbar/ntuple_{int(j)}_greater_1_sim')"
   ]
  },
  {
   "cell_type": "code",
   "execution_count": 8,
   "id": "5cde1c1e",
   "metadata": {},
   "outputs": [],
   "source": [
    "for j in np.linspace(1,82,82):\n",
    "    arr = pd.read_csv('Ecoder/TrainingData/more_testing_'+ str(int(j))+'.csv')\n",
    "    non_zero = []\n",
    "    for i in range(len(arr)):\n",
    "        if arr['simenergy'][i] > 5:\n",
    "            non_zero.append(i)\n",
    "    arr_non_zero = torch.tensor(arr.iloc[non_zero].to_numpy())\n",
    "    torch.save(arr_non_zero,f'TTBAR/ttbar_{int(j)}_greater_5_sim')"
   ]
  },
  {
   "cell_type": "code",
   "execution_count": 9,
   "id": "82888e34",
   "metadata": {},
   "outputs": [],
   "source": [
    "for j in np.linspace(1,82,82):\n",
    "    arr = pd.read_csv('Ecoder/TrainingData/more_testing_'+ str(int(j))+'.csv')\n",
    "    non_zero = []\n",
    "    for i in range(len(arr)):\n",
    "        if arr['simenergy'][i] > -1:\n",
    "            non_zero.append(i)\n",
    "    arr_non_zero = torch.tensor(arr.iloc[non_zero].to_numpy())\n",
    "    torch.save(arr_non_zero,f'TTBAR/ttbar_{int(j)}_all_sim')"
   ]
  }
 ],
 "metadata": {
  "kernelspec": {
   "display_name": "Python 3 (ipykernel)",
   "language": "python",
   "name": "python3"
  },
  "language_info": {
   "codemirror_mode": {
    "name": "ipython",
    "version": 3
   },
   "file_extension": ".py",
   "mimetype": "text/x-python",
   "name": "python",
   "nbconvert_exporter": "python",
   "pygments_lexer": "ipython3",
   "version": "3.10.6"
  }
 },
 "nbformat": 4,
 "nbformat_minor": 5
}
